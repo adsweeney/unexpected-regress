{
 "metadata": {
  "language_info": {
   "codemirror_mode": {
    "name": "ipython",
    "version": 3
   },
   "file_extension": ".py",
   "mimetype": "text/x-python",
   "name": "python",
   "nbconvert_exporter": "python",
   "pygments_lexer": "ipython3",
   "version": "3.8.3-final"
  },
  "orig_nbformat": 2,
  "kernelspec": {
   "name": "Python 3.8.3 64-bit ('metis': conda)",
   "display_name": "Python 3.8.3 64-bit ('metis': conda)",
   "metadata": {
    "interpreter": {
     "hash": "e94c15d6dbef08e95baaf638ff93666d2390f58e0c4317ae3b2bf35ecad0e12e"
    }
   }
  }
 },
 "nbformat": 4,
 "nbformat_minor": 2,
 "cells": [
  {
   "cell_type": "code",
   "execution_count": 1,
   "metadata": {},
   "outputs": [],
   "source": [
    "import pandas as pd\n",
    "import numpy as np\n",
    "from bs4 import BeautifulSoup\n",
    "import requests\n",
    "import re"
   ]
  },
  {
   "cell_type": "code",
   "execution_count": 4,
   "metadata": {},
   "outputs": [],
   "source": [
    "site = 'https://www.governing.com/gov-data/politics/gerrymandered-congressional-districts-compactness-by-state.html'\n",
    "\n",
    "response = requests.get(site)"
   ]
  },
  {
   "cell_type": "code",
   "execution_count": 6,
   "metadata": {},
   "outputs": [],
   "source": [
    "page = response.text\n",
    "soup = BeautifulSoup(page, 'html5')"
   ]
  },
  {
   "cell_type": "code",
   "execution_count": 8,
   "metadata": {},
   "outputs": [],
   "source": [
    "tab = soup.find_all('tr')"
   ]
  },
  {
   "cell_type": "code",
   "execution_count": 10,
   "metadata": {},
   "outputs": [
    {
     "output_type": "execute_result",
     "data": {
      "text/plain": [
       "<tr>\n",
       "            <td>Alabama</td>\n",
       "            <td>7</td>\n",
       "            <td>18.43</td>\n",
       "            <td>42.41</td>\n",
       "            <td>69.20</td>\n",
       "            <td>37.70</td>\n",
       "        </tr>"
      ]
     },
     "metadata": {},
     "execution_count": 10
    }
   ],
   "source": [
    "tab[2]"
   ]
  },
  {
   "cell_type": "code",
   "execution_count": 14,
   "metadata": {},
   "outputs": [
    {
     "output_type": "execute_result",
     "data": {
      "text/plain": [
       "<tr>\n",
       "            <td>West Virginia</td>\n",
       "            <td>3</td>\n",
       "            <td>13.65</td>\n",
       "            <td>36.66</td>\n",
       "            <td>54.76</td>\n",
       "            <td>32.29</td>\n",
       "        </tr>"
      ]
     },
     "metadata": {},
     "execution_count": 14
    }
   ],
   "source": [
    "tab[44]"
   ]
  },
  {
   "cell_type": "code",
   "execution_count": 20,
   "metadata": {},
   "outputs": [],
   "source": [
    "comp = {}\n",
    "\n",
    "for row in tab[2:45]:\n",
    "    items = row.find_all('td')\n",
    "    state = items[0].text\n",
    "    comp[state] = [i.text for i in items[1:]]"
   ]
  },
  {
   "cell_type": "code",
   "execution_count": 21,
   "metadata": {},
   "outputs": [
    {
     "output_type": "execute_result",
     "data": {
      "text/plain": [
       "{'Alabama': ['7', '18.43', '42.41', '69.20', '37.70'],\n",
       " 'Arkansas': ['4', '19.89', '43.98', '68.49', '38.87'],\n",
       " 'Arizona': ['9', '30.05', '53.30', '74.82', '45.21'],\n",
       " 'California': ['53', '22.58', '46.86', '72.64', '38.47'],\n",
       " 'Colorado': ['7', '24.60', '48.00', '69.77', '39.12'],\n",
       " 'Connecticut': ['5', '26.61', '50.94', '71.85', '42.19'],\n",
       " 'Florida': ['27', '24.61', '48.18', '69.24', '36.93'],\n",
       " 'Georgia': ['14', '25.83', '50.46', '75.50', '44.07'],\n",
       " 'Hawaii': ['2', '8.56', '29.10', '67.58', '36.85'],\n",
       " 'Iowa': ['4', '39.97', '62.92', '78.02', '44.13'],\n",
       " 'Idaho': ['2', '25.01', '49.51', '77.41', '37.69'],\n",
       " 'Illinois': ['18', '16.64', '39.91', '61.03', '31.07'],\n",
       " 'Indiana': ['9', '41.03', '63.59', '81.73', '44.07'],\n",
       " 'Kansas': ['4', '40.52', '62.92', '83.05', '41.10'],\n",
       " 'Kentucky': ['6', '19.21', '42.81', '68.82', '37.16'],\n",
       " 'Louisiana': ['6', '11.10', '32.14', '59.53', '32.14'],\n",
       " 'Massachusetts': ['9', '18.45', '41.74', '63.19', '35.85'],\n",
       " 'Maryland': ['8', '8.08', '27.67', '49.63', '24.68'],\n",
       " 'Maine': ['2', '14.04', '37.04', '72.83', '36.62'],\n",
       " 'Michigan': ['14', '26.03', '49.38', '69.73', '35.10'],\n",
       " 'Minnesota': ['8', '33.03', '56.85', '76.80', '40.88'],\n",
       " 'Missouri': ['8', '27.08', '51.49', '75.25', '44.60'],\n",
       " 'Mississippi': ['4', '23.33', '47.58', '76.84', '38.08'],\n",
       " 'North Carolina': ['13', '11.51', '32.17', '59.62', '29.46'],\n",
       " 'Nebraska': ['3', '39.27', '62.54', '83.73', '46.54'],\n",
       " 'New Hampshire': ['2', '16.45', '40.53', '67.53', '23.81'],\n",
       " 'New Jersey': ['12', '18.96', '42.92', '63.71', '38.92'],\n",
       " 'New Mexico': ['3', '35.17', '59.07', '78.36', '44.36'],\n",
       " 'Nevada': ['4', '52.44', '72.22', '89.20', '48.12'],\n",
       " 'New York': ['27', '31.81', '55.24', '73.53', '40.35'],\n",
       " 'Ohio': ['16', '17.22', '39.91', '63.74', '33.79'],\n",
       " 'Oklahoma': ['5', '24.98', '49.91', '68.58', '36.00'],\n",
       " 'Oregon': ['5', '31.15', '56.06', '75.28', '42.43'],\n",
       " 'Pennsylvania': ['18', '17.14', '39.52', '62.42', '34.15'],\n",
       " 'Rhode Island': ['2', '20.14', '42.35', '62.42', '26.38'],\n",
       " 'South Carolina': ['7', '20.50', '43.85', '72.91', '37.42'],\n",
       " 'Tennessee': ['9', '20.48', '44.68', '70.48', '40.20'],\n",
       " 'Texas': ['36', '19.17', '42.09', '67.35', '36.12'],\n",
       " 'Utah': ['4', '27.65', '52.28', '69.17', '34.18'],\n",
       " 'Virginia': ['11', '14.42', '37.28', '67.58', '27.89'],\n",
       " 'Washington': ['10', '21.19', '44.74', '71.39', '34.00'],\n",
       " 'Wisconsin': ['8', '21.85', '47.58', '75.64', '44.43'],\n",
       " 'West Virginia': ['3', '13.65', '36.66', '54.76', '32.29']}"
      ]
     },
     "metadata": {},
     "execution_count": 21
    }
   ],
   "source": [
    "comp"
   ]
  },
  {
   "cell_type": "code",
   "execution_count": 22,
   "metadata": {},
   "outputs": [
    {
     "output_type": "execute_result",
     "data": {
      "text/plain": [
       "           districts polsby-popper schwartzberg convex hull  reock\n",
       "Alabama            7         18.43        42.41       69.20  37.70\n",
       "Arkansas           4         19.89        43.98       68.49  38.87\n",
       "Arizona            9         30.05        53.30       74.82  45.21\n",
       "California        53         22.58        46.86       72.64  38.47\n",
       "Colorado           7         24.60        48.00       69.77  39.12"
      ],
      "text/html": "<div>\n<style scoped>\n    .dataframe tbody tr th:only-of-type {\n        vertical-align: middle;\n    }\n\n    .dataframe tbody tr th {\n        vertical-align: top;\n    }\n\n    .dataframe thead th {\n        text-align: right;\n    }\n</style>\n<table border=\"1\" class=\"dataframe\">\n  <thead>\n    <tr style=\"text-align: right;\">\n      <th></th>\n      <th>districts</th>\n      <th>polsby-popper</th>\n      <th>schwartzberg</th>\n      <th>convex hull</th>\n      <th>reock</th>\n    </tr>\n  </thead>\n  <tbody>\n    <tr>\n      <th>Alabama</th>\n      <td>7</td>\n      <td>18.43</td>\n      <td>42.41</td>\n      <td>69.20</td>\n      <td>37.70</td>\n    </tr>\n    <tr>\n      <th>Arkansas</th>\n      <td>4</td>\n      <td>19.89</td>\n      <td>43.98</td>\n      <td>68.49</td>\n      <td>38.87</td>\n    </tr>\n    <tr>\n      <th>Arizona</th>\n      <td>9</td>\n      <td>30.05</td>\n      <td>53.30</td>\n      <td>74.82</td>\n      <td>45.21</td>\n    </tr>\n    <tr>\n      <th>California</th>\n      <td>53</td>\n      <td>22.58</td>\n      <td>46.86</td>\n      <td>72.64</td>\n      <td>38.47</td>\n    </tr>\n    <tr>\n      <th>Colorado</th>\n      <td>7</td>\n      <td>24.60</td>\n      <td>48.00</td>\n      <td>69.77</td>\n      <td>39.12</td>\n    </tr>\n  </tbody>\n</table>\n</div>"
     },
     "metadata": {},
     "execution_count": 22
    }
   ],
   "source": [
    "comp_scores = pd.DataFrame(comp).T\n",
    "comp_scores.columns = ['districts', 'polsby-popper', 'schwartzberg', 'convex hull', 'reock']\n",
    "\n",
    "comp_scores.head()"
   ]
  },
  {
   "cell_type": "code",
   "execution_count": 23,
   "metadata": {},
   "outputs": [],
   "source": [
    "comp_scores['state'] = comp_scores.index"
   ]
  },
  {
   "cell_type": "code",
   "execution_count": 28,
   "metadata": {},
   "outputs": [
    {
     "output_type": "execute_result",
     "data": {
      "text/plain": [
       "Index(['districts', 'polsby-popper', 'schwartzberg', 'convex hull', 'reock',\n",
       "       'state'],\n",
       "      dtype='object')"
      ]
     },
     "metadata": {},
     "execution_count": 28
    }
   ],
   "source": [
    "comp_scores.columns"
   ]
  },
  {
   "cell_type": "code",
   "execution_count": 29,
   "metadata": {},
   "outputs": [],
   "source": [
    "compdf = comp_scores.drop(['districts'], axis = 1)"
   ]
  },
  {
   "cell_type": "code",
   "execution_count": 31,
   "metadata": {},
   "outputs": [],
   "source": [
    "compdf.to_pickle('comp_table')"
   ]
  },
  {
   "cell_type": "code",
   "execution_count": null,
   "metadata": {},
   "outputs": [],
   "source": []
  }
 ]
}