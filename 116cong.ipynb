{
 "metadata": {
  "language_info": {
   "codemirror_mode": {
    "name": "ipython",
    "version": 3
   },
   "file_extension": ".py",
   "mimetype": "text/x-python",
   "name": "python",
   "nbconvert_exporter": "python",
   "pygments_lexer": "ipython3",
   "version": "3.8.3-final"
  },
  "orig_nbformat": 2,
  "kernelspec": {
   "name": "Python 3.8.3 64-bit ('metis': conda)",
   "display_name": "Python 3.8.3 64-bit ('metis': conda)",
   "metadata": {
    "interpreter": {
     "hash": "e94c15d6dbef08e95baaf638ff93666d2390f58e0c4317ae3b2bf35ecad0e12e"
    }
   }
  }
 },
 "nbformat": 4,
 "nbformat_minor": 2,
 "cells": [
  {
   "cell_type": "code",
   "execution_count": 39,
   "metadata": {},
   "outputs": [],
   "source": [
    "import pandas as pd\n",
    "import seaborn as sns\n",
    "import numpy as np\n",
    "import locale\n",
    "from locale import atof\n"
   ]
  },
  {
   "cell_type": "code",
   "execution_count": 29,
   "metadata": {},
   "outputs": [],
   "source": [
    "df=pd.read_csv('116cong.csv')\n"
   ]
  },
  {
   "cell_type": "code",
   "execution_count": 30,
   "metadata": {},
   "outputs": [
    {
     "output_type": "execute_result",
     "data": {
      "text/plain": [
       "        District   Code                        Party Incumbent Name  \\\n",
       "0            NaN    NaN                          NaN          First   \n",
       "1     Nationwide    USA  232D - 197R - 1L - 5 Vacant            NaN   \n",
       "2  Alabama's 1st  AL-01                   Republican        Bradley   \n",
       "3  Alabama's 2nd  AL-02                   Republican         Martha   \n",
       "4  Alabama's 3rd  AL-03                   Republican           Mike   \n",
       "\n",
       "  Unnamed: 4 Pronunciation Guide         Unnamed: 6 First Elected  Birth Year  \\\n",
       "0       Last            Phonetic                IPA           NaN         NaN   \n",
       "1        NaN                 NaN                NaN           NaN         NaN   \n",
       "2      Byrne     (BRAD-lee BURN)    /'bɹæd.li bɜɹn/          2016      1955.0   \n",
       "3       Roby  (MAR-thuh ROH-bee)  /'mɑɹ.θə 'ɹoʊ.bi/          2010      1976.0   \n",
       "4     Rogers    (MAHYK RAH-jerz)   /maɪk 'ɹɑ.dʒəɹz/          2002      1958.0   \n",
       "\n",
       "  Gender  ... 2018 5-Year ACS Educational Attainment   Unnamed: 111  \\\n",
       "0    NaN  ...                                  Total  < High School   \n",
       "1    NaN  ...                            218,446,071     26,948,057   \n",
       "2    Man  ...                                482,421         62,851   \n",
       "3  Woman  ...                                461,250         71,673   \n",
       "4    Man  ...                                472,759         72,736   \n",
       "\n",
       "  Unnamed: 112  Unnamed: 113 Unnamed: 114  \\\n",
       "0  High School  Some College      College   \n",
       "1   59,265,308    63,365,655   68,867,051   \n",
       "2      159,203       143,142      117,225   \n",
       "3      147,741       138,174      103,662   \n",
       "4      148,994       148,526      102,503   \n",
       "\n",
       "  2018 5-Year ACS White Educational Attainment   Unnamed: 116 Unnamed: 117  \\\n",
       "0                                        Total  < High School  High School   \n",
       "1                                  143,042,909     10,569,698   39,145,047   \n",
       "2                                      331,580         35,848      105,275   \n",
       "3                                      303,956         37,611       95,104   \n",
       "4                                      332,746         45,180      103,563   \n",
       "\n",
       "   Unnamed: 118 Unnamed: 119  \n",
       "0  Some College      College  \n",
       "1    43,004,226   50,323,938  \n",
       "2        98,664       91,793  \n",
       "3        94,560       76,681  \n",
       "4       106,829       77,174  \n",
       "\n",
       "[5 rows x 120 columns]"
      ],
      "text/html": "<div>\n<style scoped>\n    .dataframe tbody tr th:only-of-type {\n        vertical-align: middle;\n    }\n\n    .dataframe tbody tr th {\n        vertical-align: top;\n    }\n\n    .dataframe thead th {\n        text-align: right;\n    }\n</style>\n<table border=\"1\" class=\"dataframe\">\n  <thead>\n    <tr style=\"text-align: right;\">\n      <th></th>\n      <th>District</th>\n      <th>Code</th>\n      <th>Party</th>\n      <th>Incumbent Name</th>\n      <th>Unnamed: 4</th>\n      <th>Pronunciation Guide</th>\n      <th>Unnamed: 6</th>\n      <th>First Elected</th>\n      <th>Birth Year</th>\n      <th>Gender</th>\n      <th>...</th>\n      <th>2018 5-Year ACS Educational Attainment</th>\n      <th>Unnamed: 111</th>\n      <th>Unnamed: 112</th>\n      <th>Unnamed: 113</th>\n      <th>Unnamed: 114</th>\n      <th>2018 5-Year ACS White Educational Attainment</th>\n      <th>Unnamed: 116</th>\n      <th>Unnamed: 117</th>\n      <th>Unnamed: 118</th>\n      <th>Unnamed: 119</th>\n    </tr>\n  </thead>\n  <tbody>\n    <tr>\n      <th>0</th>\n      <td>NaN</td>\n      <td>NaN</td>\n      <td>NaN</td>\n      <td>First</td>\n      <td>Last</td>\n      <td>Phonetic</td>\n      <td>IPA</td>\n      <td>NaN</td>\n      <td>NaN</td>\n      <td>NaN</td>\n      <td>...</td>\n      <td>Total</td>\n      <td>&lt; High School</td>\n      <td>High School</td>\n      <td>Some College</td>\n      <td>College</td>\n      <td>Total</td>\n      <td>&lt; High School</td>\n      <td>High School</td>\n      <td>Some College</td>\n      <td>College</td>\n    </tr>\n    <tr>\n      <th>1</th>\n      <td>Nationwide</td>\n      <td>USA</td>\n      <td>232D - 197R - 1L - 5 Vacant</td>\n      <td>NaN</td>\n      <td>NaN</td>\n      <td>NaN</td>\n      <td>NaN</td>\n      <td>NaN</td>\n      <td>NaN</td>\n      <td>NaN</td>\n      <td>...</td>\n      <td>218,446,071</td>\n      <td>26,948,057</td>\n      <td>59,265,308</td>\n      <td>63,365,655</td>\n      <td>68,867,051</td>\n      <td>143,042,909</td>\n      <td>10,569,698</td>\n      <td>39,145,047</td>\n      <td>43,004,226</td>\n      <td>50,323,938</td>\n    </tr>\n    <tr>\n      <th>2</th>\n      <td>Alabama's 1st</td>\n      <td>AL-01</td>\n      <td>Republican</td>\n      <td>Bradley</td>\n      <td>Byrne</td>\n      <td>(BRAD-lee BURN)</td>\n      <td>/'bɹæd.li bɜɹn/</td>\n      <td>2016</td>\n      <td>1955.0</td>\n      <td>Man</td>\n      <td>...</td>\n      <td>482,421</td>\n      <td>62,851</td>\n      <td>159,203</td>\n      <td>143,142</td>\n      <td>117,225</td>\n      <td>331,580</td>\n      <td>35,848</td>\n      <td>105,275</td>\n      <td>98,664</td>\n      <td>91,793</td>\n    </tr>\n    <tr>\n      <th>3</th>\n      <td>Alabama's 2nd</td>\n      <td>AL-02</td>\n      <td>Republican</td>\n      <td>Martha</td>\n      <td>Roby</td>\n      <td>(MAR-thuh ROH-bee)</td>\n      <td>/'mɑɹ.θə 'ɹoʊ.bi/</td>\n      <td>2010</td>\n      <td>1976.0</td>\n      <td>Woman</td>\n      <td>...</td>\n      <td>461,250</td>\n      <td>71,673</td>\n      <td>147,741</td>\n      <td>138,174</td>\n      <td>103,662</td>\n      <td>303,956</td>\n      <td>37,611</td>\n      <td>95,104</td>\n      <td>94,560</td>\n      <td>76,681</td>\n    </tr>\n    <tr>\n      <th>4</th>\n      <td>Alabama's 3rd</td>\n      <td>AL-03</td>\n      <td>Republican</td>\n      <td>Mike</td>\n      <td>Rogers</td>\n      <td>(MAHYK RAH-jerz)</td>\n      <td>/maɪk 'ɹɑ.dʒəɹz/</td>\n      <td>2002</td>\n      <td>1958.0</td>\n      <td>Man</td>\n      <td>...</td>\n      <td>472,759</td>\n      <td>72,736</td>\n      <td>148,994</td>\n      <td>148,526</td>\n      <td>102,503</td>\n      <td>332,746</td>\n      <td>45,180</td>\n      <td>103,563</td>\n      <td>106,829</td>\n      <td>77,174</td>\n    </tr>\n  </tbody>\n</table>\n<p>5 rows × 120 columns</p>\n</div>"
     },
     "metadata": {},
     "execution_count": 30
    }
   ],
   "source": [
    "df.head()"
   ]
  },
  {
   "cell_type": "code",
   "execution_count": 31,
   "metadata": {},
   "outputs": [],
   "source": [
    "dfdrop = df.drop(axis=0, index=[0, 1])"
   ]
  },
  {
   "cell_type": "code",
   "execution_count": 32,
   "metadata": {},
   "outputs": [],
   "source": [
    "dfdrop = dfdrop.drop(['District', 'Party', 'Unnamed: 4', 'Pronunciation Guide', 'Unnamed: 6', 'First Elected', 'Birth Year', 'LGBTQ'], axis=1)"
   ]
  },
  {
   "cell_type": "code",
   "execution_count": 33,
   "metadata": {},
   "outputs": [],
   "source": [
    "dfdrop = dfdrop.drop(['Religion', 'Pre-2018 Incumbent', '2016 President', 'Unnamed: 15', 'Unnamed: 111', 'Unnamed: 112', 'Unnamed: 113', '2018 5-Year ACS White Educational Attainment', 'Unnamed: 116', 'Unnamed: 117', 'Unnamed: 118', 'Unnamed: 119'], axis=1)"
   ]
  },
  {
   "cell_type": "code",
   "execution_count": 44,
   "metadata": {},
   "outputs": [
    {
     "output_type": "execute_result",
     "data": {
      "text/plain": [
       "      Code Incumbent Name Gender       Race/ Ethnicity 2012 President  \\\n",
       "2    AL-01        Bradley    Man  White - Non-Hispanic           37.4   \n",
       "3    AL-02         Martha  Woman  White - Non-Hispanic           36.4   \n",
       "4    AL-03           Mike    Man  White - Non-Hispanic           36.8   \n",
       "5    AL-04         Robert    Man  White - Non-Hispanic           24.0   \n",
       "6    AL-05             Mo    Man  White - Non-Hispanic           34.9   \n",
       "..     ...            ...    ...                   ...            ...   \n",
       "432  WI-05            Jim    Man  White - Non-Hispanic           37.7   \n",
       "433  WI-06          Glenn    Man  White - Non-Hispanic           45.8   \n",
       "434  WI-07            Tom    Man  White - Non-Hispanic           47.8   \n",
       "435  WI-08           Mike    Man  White - Non-Hispanic           47.6   \n",
       "436  WY-AL            Liz  Woman  White - Non-Hispanic           28.0   \n",
       "\n",
       "    Unnamed: 17 2008 President Unnamed: 19 2018 US House Unnamed: 21  ...  \\\n",
       "2          61.8           38.5        60.9          36.8        63.2  ...   \n",
       "3          62.9           35.0        64.5          38.4        61.4  ...   \n",
       "4          62.3           36.6        62.6          36.2        63.7  ...   \n",
       "5          74.8           25.5        73.3          20.1        79.8  ...   \n",
       "6          63.9           36.3        62.6          38.9        61.0  ...   \n",
       "..          ...            ...         ...           ...         ...  ...   \n",
       "432        61.3           41.8        57.2          38.0        61.9  ...   \n",
       "433        53.1           49.4        49.3          44.5        55.5  ...   \n",
       "434        50.9           53.2        45.3          38.5        60.1  ...   \n",
       "435        51.3           53.7        45.0          36.3        63.7  ...   \n",
       "436        69.2           32.7        65.2          29.8        63.6  ...   \n",
       "\n",
       "    Unnamed: 102  \\\n",
       "2          9,350   \n",
       "3          9,953   \n",
       "4          9,057   \n",
       "5          9,616   \n",
       "6         13,449   \n",
       "..           ...   \n",
       "432        8,801   \n",
       "433        7,502   \n",
       "434        9,060   \n",
       "435        9,552   \n",
       "436        8,742   \n",
       "\n",
       "    2010 Census Voting Age Population (Includes Latinos of Any Race)  \\\n",
       "2                                              515,948                 \n",
       "3                                              522,837                 \n",
       "4                                              523,481                 \n",
       "5                                              521,081                 \n",
       "6                                              523,079                 \n",
       "..                                                 ...                 \n",
       "432                                            548,075                 \n",
       "433                                            550,929                 \n",
       "434                                            547,463                 \n",
       "435                                            538,785                 \n",
       "436                                            428,224                 \n",
       "\n",
       "    Unnamed: 104 Unnamed: 105 Unnamed: 106 Unnamed: 107 Unnamed: 108  \\\n",
       "2        353,347      132,261       12,904        6,918        5,524   \n",
       "3        347,855      145,568       15,912        6,059        2,371   \n",
       "4        374,072      125,248       11,783        5,992        1,705   \n",
       "5        452,704       34,104       22,579        2,369        3,870   \n",
       "6        398,175       85,119       20,508        8,381        3,628   \n",
       "..           ...          ...          ...          ...          ...   \n",
       "432      502,516        7,721       21,132       11,315        1,626   \n",
       "433      512,304        8,534       15,390        9,099        2,414   \n",
       "434      517,329        2,735        7,147        6,322        9,538   \n",
       "435      491,964        5,067       17,269        8,908       11,474   \n",
       "436      376,530        3,265       32,070        3,757        7,764   \n",
       "\n",
       "    Unnamed: 109 2018 5-Year ACS Educational Attainment Unnamed: 114  \n",
       "2          4,994                                482,421      117,225  \n",
       "3          5,072                                461,250      103,662  \n",
       "4          4,681                                472,759      102,503  \n",
       "5          5,455                                471,629       81,079  \n",
       "6          7,268                                490,800      156,283  \n",
       "..           ...                                    ...          ...  \n",
       "432        3,765                                508,769      189,238  \n",
       "433        3,188                                497,041      128,393  \n",
       "434        4,392                                502,595      116,018  \n",
       "435        4,103                                501,233      130,093  \n",
       "436        4,838                                389,291      104,677  \n",
       "\n",
       "[435 rows x 100 columns]"
      ],
      "text/html": "<div>\n<style scoped>\n    .dataframe tbody tr th:only-of-type {\n        vertical-align: middle;\n    }\n\n    .dataframe tbody tr th {\n        vertical-align: top;\n    }\n\n    .dataframe thead th {\n        text-align: right;\n    }\n</style>\n<table border=\"1\" class=\"dataframe\">\n  <thead>\n    <tr style=\"text-align: right;\">\n      <th></th>\n      <th>Code</th>\n      <th>Incumbent Name</th>\n      <th>Gender</th>\n      <th>Race/ Ethnicity</th>\n      <th>2012 President</th>\n      <th>Unnamed: 17</th>\n      <th>2008 President</th>\n      <th>Unnamed: 19</th>\n      <th>2018 US House</th>\n      <th>Unnamed: 21</th>\n      <th>...</th>\n      <th>Unnamed: 102</th>\n      <th>2010 Census Voting Age Population (Includes Latinos of Any Race)</th>\n      <th>Unnamed: 104</th>\n      <th>Unnamed: 105</th>\n      <th>Unnamed: 106</th>\n      <th>Unnamed: 107</th>\n      <th>Unnamed: 108</th>\n      <th>Unnamed: 109</th>\n      <th>2018 5-Year ACS Educational Attainment</th>\n      <th>Unnamed: 114</th>\n    </tr>\n  </thead>\n  <tbody>\n    <tr>\n      <th>2</th>\n      <td>AL-01</td>\n      <td>Bradley</td>\n      <td>Man</td>\n      <td>White - Non-Hispanic</td>\n      <td>37.4</td>\n      <td>61.8</td>\n      <td>38.5</td>\n      <td>60.9</td>\n      <td>36.8</td>\n      <td>63.2</td>\n      <td>...</td>\n      <td>9,350</td>\n      <td>515,948</td>\n      <td>353,347</td>\n      <td>132,261</td>\n      <td>12,904</td>\n      <td>6,918</td>\n      <td>5,524</td>\n      <td>4,994</td>\n      <td>482,421</td>\n      <td>117,225</td>\n    </tr>\n    <tr>\n      <th>3</th>\n      <td>AL-02</td>\n      <td>Martha</td>\n      <td>Woman</td>\n      <td>White - Non-Hispanic</td>\n      <td>36.4</td>\n      <td>62.9</td>\n      <td>35.0</td>\n      <td>64.5</td>\n      <td>38.4</td>\n      <td>61.4</td>\n      <td>...</td>\n      <td>9,953</td>\n      <td>522,837</td>\n      <td>347,855</td>\n      <td>145,568</td>\n      <td>15,912</td>\n      <td>6,059</td>\n      <td>2,371</td>\n      <td>5,072</td>\n      <td>461,250</td>\n      <td>103,662</td>\n    </tr>\n    <tr>\n      <th>4</th>\n      <td>AL-03</td>\n      <td>Mike</td>\n      <td>Man</td>\n      <td>White - Non-Hispanic</td>\n      <td>36.8</td>\n      <td>62.3</td>\n      <td>36.6</td>\n      <td>62.6</td>\n      <td>36.2</td>\n      <td>63.7</td>\n      <td>...</td>\n      <td>9,057</td>\n      <td>523,481</td>\n      <td>374,072</td>\n      <td>125,248</td>\n      <td>11,783</td>\n      <td>5,992</td>\n      <td>1,705</td>\n      <td>4,681</td>\n      <td>472,759</td>\n      <td>102,503</td>\n    </tr>\n    <tr>\n      <th>5</th>\n      <td>AL-04</td>\n      <td>Robert</td>\n      <td>Man</td>\n      <td>White - Non-Hispanic</td>\n      <td>24.0</td>\n      <td>74.8</td>\n      <td>25.5</td>\n      <td>73.3</td>\n      <td>20.1</td>\n      <td>79.8</td>\n      <td>...</td>\n      <td>9,616</td>\n      <td>521,081</td>\n      <td>452,704</td>\n      <td>34,104</td>\n      <td>22,579</td>\n      <td>2,369</td>\n      <td>3,870</td>\n      <td>5,455</td>\n      <td>471,629</td>\n      <td>81,079</td>\n    </tr>\n    <tr>\n      <th>6</th>\n      <td>AL-05</td>\n      <td>Mo</td>\n      <td>Man</td>\n      <td>White - Non-Hispanic</td>\n      <td>34.9</td>\n      <td>63.9</td>\n      <td>36.3</td>\n      <td>62.6</td>\n      <td>38.9</td>\n      <td>61.0</td>\n      <td>...</td>\n      <td>13,449</td>\n      <td>523,079</td>\n      <td>398,175</td>\n      <td>85,119</td>\n      <td>20,508</td>\n      <td>8,381</td>\n      <td>3,628</td>\n      <td>7,268</td>\n      <td>490,800</td>\n      <td>156,283</td>\n    </tr>\n    <tr>\n      <th>...</th>\n      <td>...</td>\n      <td>...</td>\n      <td>...</td>\n      <td>...</td>\n      <td>...</td>\n      <td>...</td>\n      <td>...</td>\n      <td>...</td>\n      <td>...</td>\n      <td>...</td>\n      <td>...</td>\n      <td>...</td>\n      <td>...</td>\n      <td>...</td>\n      <td>...</td>\n      <td>...</td>\n      <td>...</td>\n      <td>...</td>\n      <td>...</td>\n      <td>...</td>\n      <td>...</td>\n    </tr>\n    <tr>\n      <th>432</th>\n      <td>WI-05</td>\n      <td>Jim</td>\n      <td>Man</td>\n      <td>White - Non-Hispanic</td>\n      <td>37.7</td>\n      <td>61.3</td>\n      <td>41.8</td>\n      <td>57.2</td>\n      <td>38.0</td>\n      <td>61.9</td>\n      <td>...</td>\n      <td>8,801</td>\n      <td>548,075</td>\n      <td>502,516</td>\n      <td>7,721</td>\n      <td>21,132</td>\n      <td>11,315</td>\n      <td>1,626</td>\n      <td>3,765</td>\n      <td>508,769</td>\n      <td>189,238</td>\n    </tr>\n    <tr>\n      <th>433</th>\n      <td>WI-06</td>\n      <td>Glenn</td>\n      <td>Man</td>\n      <td>White - Non-Hispanic</td>\n      <td>45.8</td>\n      <td>53.1</td>\n      <td>49.4</td>\n      <td>49.3</td>\n      <td>44.5</td>\n      <td>55.5</td>\n      <td>...</td>\n      <td>7,502</td>\n      <td>550,929</td>\n      <td>512,304</td>\n      <td>8,534</td>\n      <td>15,390</td>\n      <td>9,099</td>\n      <td>2,414</td>\n      <td>3,188</td>\n      <td>497,041</td>\n      <td>128,393</td>\n    </tr>\n    <tr>\n      <th>434</th>\n      <td>WI-07</td>\n      <td>Tom</td>\n      <td>Man</td>\n      <td>White - Non-Hispanic</td>\n      <td>47.8</td>\n      <td>50.9</td>\n      <td>53.2</td>\n      <td>45.3</td>\n      <td>38.5</td>\n      <td>60.1</td>\n      <td>...</td>\n      <td>9,060</td>\n      <td>547,463</td>\n      <td>517,329</td>\n      <td>2,735</td>\n      <td>7,147</td>\n      <td>6,322</td>\n      <td>9,538</td>\n      <td>4,392</td>\n      <td>502,595</td>\n      <td>116,018</td>\n    </tr>\n    <tr>\n      <th>435</th>\n      <td>WI-08</td>\n      <td>Mike</td>\n      <td>Man</td>\n      <td>White - Non-Hispanic</td>\n      <td>47.6</td>\n      <td>51.3</td>\n      <td>53.7</td>\n      <td>45.0</td>\n      <td>36.3</td>\n      <td>63.7</td>\n      <td>...</td>\n      <td>9,552</td>\n      <td>538,785</td>\n      <td>491,964</td>\n      <td>5,067</td>\n      <td>17,269</td>\n      <td>8,908</td>\n      <td>11,474</td>\n      <td>4,103</td>\n      <td>501,233</td>\n      <td>130,093</td>\n    </tr>\n    <tr>\n      <th>436</th>\n      <td>WY-AL</td>\n      <td>Liz</td>\n      <td>Woman</td>\n      <td>White - Non-Hispanic</td>\n      <td>28.0</td>\n      <td>69.2</td>\n      <td>32.7</td>\n      <td>65.2</td>\n      <td>29.8</td>\n      <td>63.6</td>\n      <td>...</td>\n      <td>8,742</td>\n      <td>428,224</td>\n      <td>376,530</td>\n      <td>3,265</td>\n      <td>32,070</td>\n      <td>3,757</td>\n      <td>7,764</td>\n      <td>4,838</td>\n      <td>389,291</td>\n      <td>104,677</td>\n    </tr>\n  </tbody>\n</table>\n<p>435 rows × 100 columns</p>\n</div>"
     },
     "metadata": {},
     "execution_count": 44
    }
   ],
   "source": [
    "dfdrop"
   ]
  },
  {
   "cell_type": "code",
   "execution_count": 42,
   "metadata": {},
   "outputs": [],
   "source": [
    "# locale.setlocale(locale.LC_NUMERIC, '')\n",
    "# dfdrop[['2018 5-Year ACS Educational Attainment', 'Unnamed: 114']] = dfdrop[['2018 5-Year ACS Educational Attainment', 'Unnamed: 114']].applymap(atof)"
   ]
  },
  {
   "cell_type": "code",
   "execution_count": 43,
   "metadata": {},
   "outputs": [],
   "source": [
    "# dfdrop[['2018 5-Year ACS Educational Attainment', 'Unnamed: 114']] = dfdrop[['2018 5-Year ACS Educational Attainment', 'Unnamed: 114']].apply(pd.to_numeric)"
   ]
  },
  {
   "cell_type": "code",
   "execution_count": 50,
   "metadata": {},
   "outputs": [],
   "source": [
    "dfdrop['Unnamed: 114' ] = dfdrop['Unnamed: 114'].apply(lambda x: x.replace(',', ''))\n"
   ]
  },
  {
   "cell_type": "code",
   "execution_count": 51,
   "metadata": {},
   "outputs": [],
   "source": [
    "dfdrop['2018 5-Year ACS Educational Attainment'] = dfdrop['2018 5-Year ACS Educational Attainment'].apply(lambda x: x.replace(',', ''))"
   ]
  },
  {
   "cell_type": "code",
   "execution_count": 53,
   "metadata": {},
   "outputs": [],
   "source": [
    "dfdrop[['2018 5-Year ACS Educational Attainment', 'Unnamed: 114']] = dfdrop[['2018 5-Year ACS Educational Attainment', 'Unnamed: 114']].apply(pd.to_numeric)"
   ]
  },
  {
   "cell_type": "code",
   "execution_count": 55,
   "metadata": {},
   "outputs": [],
   "source": [
    "dfdrop['col_perc'] = dfdrop['Unnamed: 114'] / dfdrop['2018 5-Year ACS Educational Attainment']"
   ]
  },
  {
   "cell_type": "code",
   "execution_count": 58,
   "metadata": {},
   "outputs": [],
   "source": [
    "dfdrop[['2012 President', 'Unnamed: 17']] =  dfdrop[['2012 President', 'Unnamed: 17']].apply(pd.to_numeric)"
   ]
  },
  {
   "cell_type": "code",
   "execution_count": 59,
   "metadata": {},
   "outputs": [],
   "source": [
    "dfdrop['pres_marg_2012'] = dfdrop['2012 President'] - dfdrop['Unnamed: 17']"
   ]
  },
  {
   "cell_type": "code",
   "execution_count": 63,
   "metadata": {},
   "outputs": [],
   "source": [
    "dfend = dfdrop[['Code', 'Gender', 'Race/ Ethnicity', 'col_perc', 'pres_marg_2012']]"
   ]
  },
  {
   "cell_type": "code",
   "execution_count": 64,
   "metadata": {},
   "outputs": [
    {
     "output_type": "execute_result",
     "data": {
      "text/plain": [
       "      Code Gender       Race/ Ethnicity  col_perc  pres_marg_2012\n",
       "2    AL-01    Man  White - Non-Hispanic  0.242993           -24.4\n",
       "3    AL-02  Woman  White - Non-Hispanic  0.224741           -26.5\n",
       "4    AL-03    Man  White - Non-Hispanic  0.216819           -25.5\n",
       "5    AL-04    Man  White - Non-Hispanic  0.171913           -50.8\n",
       "6    AL-05    Man  White - Non-Hispanic  0.318425           -29.0\n",
       "..     ...    ...                   ...       ...             ...\n",
       "432  WI-05    Man  White - Non-Hispanic  0.371953           -23.6\n",
       "433  WI-06    Man  White - Non-Hispanic  0.258315            -7.3\n",
       "434  WI-07    Man  White - Non-Hispanic  0.230838            -3.1\n",
       "435  WI-08    Man  White - Non-Hispanic  0.259546            -3.7\n",
       "436  WY-AL  Woman  White - Non-Hispanic  0.268891           -41.2\n",
       "\n",
       "[435 rows x 5 columns]"
      ],
      "text/html": "<div>\n<style scoped>\n    .dataframe tbody tr th:only-of-type {\n        vertical-align: middle;\n    }\n\n    .dataframe tbody tr th {\n        vertical-align: top;\n    }\n\n    .dataframe thead th {\n        text-align: right;\n    }\n</style>\n<table border=\"1\" class=\"dataframe\">\n  <thead>\n    <tr style=\"text-align: right;\">\n      <th></th>\n      <th>Code</th>\n      <th>Gender</th>\n      <th>Race/ Ethnicity</th>\n      <th>col_perc</th>\n      <th>pres_marg_2012</th>\n    </tr>\n  </thead>\n  <tbody>\n    <tr>\n      <th>2</th>\n      <td>AL-01</td>\n      <td>Man</td>\n      <td>White - Non-Hispanic</td>\n      <td>0.242993</td>\n      <td>-24.4</td>\n    </tr>\n    <tr>\n      <th>3</th>\n      <td>AL-02</td>\n      <td>Woman</td>\n      <td>White - Non-Hispanic</td>\n      <td>0.224741</td>\n      <td>-26.5</td>\n    </tr>\n    <tr>\n      <th>4</th>\n      <td>AL-03</td>\n      <td>Man</td>\n      <td>White - Non-Hispanic</td>\n      <td>0.216819</td>\n      <td>-25.5</td>\n    </tr>\n    <tr>\n      <th>5</th>\n      <td>AL-04</td>\n      <td>Man</td>\n      <td>White - Non-Hispanic</td>\n      <td>0.171913</td>\n      <td>-50.8</td>\n    </tr>\n    <tr>\n      <th>6</th>\n      <td>AL-05</td>\n      <td>Man</td>\n      <td>White - Non-Hispanic</td>\n      <td>0.318425</td>\n      <td>-29.0</td>\n    </tr>\n    <tr>\n      <th>...</th>\n      <td>...</td>\n      <td>...</td>\n      <td>...</td>\n      <td>...</td>\n      <td>...</td>\n    </tr>\n    <tr>\n      <th>432</th>\n      <td>WI-05</td>\n      <td>Man</td>\n      <td>White - Non-Hispanic</td>\n      <td>0.371953</td>\n      <td>-23.6</td>\n    </tr>\n    <tr>\n      <th>433</th>\n      <td>WI-06</td>\n      <td>Man</td>\n      <td>White - Non-Hispanic</td>\n      <td>0.258315</td>\n      <td>-7.3</td>\n    </tr>\n    <tr>\n      <th>434</th>\n      <td>WI-07</td>\n      <td>Man</td>\n      <td>White - Non-Hispanic</td>\n      <td>0.230838</td>\n      <td>-3.1</td>\n    </tr>\n    <tr>\n      <th>435</th>\n      <td>WI-08</td>\n      <td>Man</td>\n      <td>White - Non-Hispanic</td>\n      <td>0.259546</td>\n      <td>-3.7</td>\n    </tr>\n    <tr>\n      <th>436</th>\n      <td>WY-AL</td>\n      <td>Woman</td>\n      <td>White - Non-Hispanic</td>\n      <td>0.268891</td>\n      <td>-41.2</td>\n    </tr>\n  </tbody>\n</table>\n<p>435 rows × 5 columns</p>\n</div>"
     },
     "metadata": {},
     "execution_count": 64
    }
   ],
   "source": [
    "dfend"
   ]
  },
  {
   "cell_type": "code",
   "execution_count": 65,
   "metadata": {},
   "outputs": [],
   "source": [
    "dfend.to_pickle('demo2018')"
   ]
  },
  {
   "cell_type": "code",
   "execution_count": null,
   "metadata": {},
   "outputs": [],
   "source": []
  }
 ]
}