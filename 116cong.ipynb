{
 "metadata": {
  "language_info": {
   "codemirror_mode": {
    "name": "ipython",
    "version": 3
   },
   "file_extension": ".py",
   "mimetype": "text/x-python",
   "name": "python",
   "nbconvert_exporter": "python",
   "pygments_lexer": "ipython3",
   "version": "3.8.3-final"
  },
  "orig_nbformat": 2,
  "kernelspec": {
   "name": "Python 3.8.3 64-bit ('metis': conda)",
   "display_name": "Python 3.8.3 64-bit ('metis': conda)",
   "metadata": {
    "interpreter": {
     "hash": "e94c15d6dbef08e95baaf638ff93666d2390f58e0c4317ae3b2bf35ecad0e12e"
    }
   }
  }
 },
 "nbformat": 4,
 "nbformat_minor": 2,
 "cells": [
  {
   "cell_type": "code",
   "execution_count": 107,
   "metadata": {},
   "outputs": [],
   "source": [
    "import pandas as pd\n",
    "import seaborn as sns\n",
    "import numpy as np\n",
    "import locale\n",
    "from locale import atof\n",
    "import string\n",
    "### 2018"
   ]
  },
  {
   "cell_type": "code",
   "execution_count": 108,
   "metadata": {},
   "outputs": [],
   "source": [
    "df=pd.read_csv('116cong.csv')\n"
   ]
  },
  {
   "cell_type": "code",
   "execution_count": 109,
   "metadata": {},
   "outputs": [
    {
     "output_type": "execute_result",
     "data": {
      "text/plain": [
       "        District   Code                        Party Incumbent Name  \\\n",
       "0            NaN    NaN                          NaN          First   \n",
       "1     Nationwide    USA  232D - 197R - 1L - 5 Vacant            NaN   \n",
       "2  Alabama's 1st  AL-01                   Republican        Bradley   \n",
       "3  Alabama's 2nd  AL-02                   Republican         Martha   \n",
       "4  Alabama's 3rd  AL-03                   Republican           Mike   \n",
       "\n",
       "  Unnamed: 4 Pronunciation Guide         Unnamed: 6 First Elected  Birth Year  \\\n",
       "0       Last            Phonetic                IPA           NaN         NaN   \n",
       "1        NaN                 NaN                NaN           NaN         NaN   \n",
       "2      Byrne     (BRAD-lee BURN)    /'bɹæd.li bɜɹn/          2016      1955.0   \n",
       "3       Roby  (MAR-thuh ROH-bee)  /'mɑɹ.θə 'ɹoʊ.bi/          2010      1976.0   \n",
       "4     Rogers    (MAHYK RAH-jerz)   /maɪk 'ɹɑ.dʒəɹz/          2002      1958.0   \n",
       "\n",
       "  Gender  ... 2018 5-Year ACS Educational Attainment   Unnamed: 111  \\\n",
       "0    NaN  ...                                  Total  < High School   \n",
       "1    NaN  ...                            218,446,071     26,948,057   \n",
       "2    Man  ...                                482,421         62,851   \n",
       "3  Woman  ...                                461,250         71,673   \n",
       "4    Man  ...                                472,759         72,736   \n",
       "\n",
       "  Unnamed: 112  Unnamed: 113 Unnamed: 114  \\\n",
       "0  High School  Some College      College   \n",
       "1   59,265,308    63,365,655   68,867,051   \n",
       "2      159,203       143,142      117,225   \n",
       "3      147,741       138,174      103,662   \n",
       "4      148,994       148,526      102,503   \n",
       "\n",
       "  2018 5-Year ACS White Educational Attainment   Unnamed: 116 Unnamed: 117  \\\n",
       "0                                        Total  < High School  High School   \n",
       "1                                  143,042,909     10,569,698   39,145,047   \n",
       "2                                      331,580         35,848      105,275   \n",
       "3                                      303,956         37,611       95,104   \n",
       "4                                      332,746         45,180      103,563   \n",
       "\n",
       "   Unnamed: 118 Unnamed: 119  \n",
       "0  Some College      College  \n",
       "1    43,004,226   50,323,938  \n",
       "2        98,664       91,793  \n",
       "3        94,560       76,681  \n",
       "4       106,829       77,174  \n",
       "\n",
       "[5 rows x 120 columns]"
      ],
      "text/html": "<div>\n<style scoped>\n    .dataframe tbody tr th:only-of-type {\n        vertical-align: middle;\n    }\n\n    .dataframe tbody tr th {\n        vertical-align: top;\n    }\n\n    .dataframe thead th {\n        text-align: right;\n    }\n</style>\n<table border=\"1\" class=\"dataframe\">\n  <thead>\n    <tr style=\"text-align: right;\">\n      <th></th>\n      <th>District</th>\n      <th>Code</th>\n      <th>Party</th>\n      <th>Incumbent Name</th>\n      <th>Unnamed: 4</th>\n      <th>Pronunciation Guide</th>\n      <th>Unnamed: 6</th>\n      <th>First Elected</th>\n      <th>Birth Year</th>\n      <th>Gender</th>\n      <th>...</th>\n      <th>2018 5-Year ACS Educational Attainment</th>\n      <th>Unnamed: 111</th>\n      <th>Unnamed: 112</th>\n      <th>Unnamed: 113</th>\n      <th>Unnamed: 114</th>\n      <th>2018 5-Year ACS White Educational Attainment</th>\n      <th>Unnamed: 116</th>\n      <th>Unnamed: 117</th>\n      <th>Unnamed: 118</th>\n      <th>Unnamed: 119</th>\n    </tr>\n  </thead>\n  <tbody>\n    <tr>\n      <th>0</th>\n      <td>NaN</td>\n      <td>NaN</td>\n      <td>NaN</td>\n      <td>First</td>\n      <td>Last</td>\n      <td>Phonetic</td>\n      <td>IPA</td>\n      <td>NaN</td>\n      <td>NaN</td>\n      <td>NaN</td>\n      <td>...</td>\n      <td>Total</td>\n      <td>&lt; High School</td>\n      <td>High School</td>\n      <td>Some College</td>\n      <td>College</td>\n      <td>Total</td>\n      <td>&lt; High School</td>\n      <td>High School</td>\n      <td>Some College</td>\n      <td>College</td>\n    </tr>\n    <tr>\n      <th>1</th>\n      <td>Nationwide</td>\n      <td>USA</td>\n      <td>232D - 197R - 1L - 5 Vacant</td>\n      <td>NaN</td>\n      <td>NaN</td>\n      <td>NaN</td>\n      <td>NaN</td>\n      <td>NaN</td>\n      <td>NaN</td>\n      <td>NaN</td>\n      <td>...</td>\n      <td>218,446,071</td>\n      <td>26,948,057</td>\n      <td>59,265,308</td>\n      <td>63,365,655</td>\n      <td>68,867,051</td>\n      <td>143,042,909</td>\n      <td>10,569,698</td>\n      <td>39,145,047</td>\n      <td>43,004,226</td>\n      <td>50,323,938</td>\n    </tr>\n    <tr>\n      <th>2</th>\n      <td>Alabama's 1st</td>\n      <td>AL-01</td>\n      <td>Republican</td>\n      <td>Bradley</td>\n      <td>Byrne</td>\n      <td>(BRAD-lee BURN)</td>\n      <td>/'bɹæd.li bɜɹn/</td>\n      <td>2016</td>\n      <td>1955.0</td>\n      <td>Man</td>\n      <td>...</td>\n      <td>482,421</td>\n      <td>62,851</td>\n      <td>159,203</td>\n      <td>143,142</td>\n      <td>117,225</td>\n      <td>331,580</td>\n      <td>35,848</td>\n      <td>105,275</td>\n      <td>98,664</td>\n      <td>91,793</td>\n    </tr>\n    <tr>\n      <th>3</th>\n      <td>Alabama's 2nd</td>\n      <td>AL-02</td>\n      <td>Republican</td>\n      <td>Martha</td>\n      <td>Roby</td>\n      <td>(MAR-thuh ROH-bee)</td>\n      <td>/'mɑɹ.θə 'ɹoʊ.bi/</td>\n      <td>2010</td>\n      <td>1976.0</td>\n      <td>Woman</td>\n      <td>...</td>\n      <td>461,250</td>\n      <td>71,673</td>\n      <td>147,741</td>\n      <td>138,174</td>\n      <td>103,662</td>\n      <td>303,956</td>\n      <td>37,611</td>\n      <td>95,104</td>\n      <td>94,560</td>\n      <td>76,681</td>\n    </tr>\n    <tr>\n      <th>4</th>\n      <td>Alabama's 3rd</td>\n      <td>AL-03</td>\n      <td>Republican</td>\n      <td>Mike</td>\n      <td>Rogers</td>\n      <td>(MAHYK RAH-jerz)</td>\n      <td>/maɪk 'ɹɑ.dʒəɹz/</td>\n      <td>2002</td>\n      <td>1958.0</td>\n      <td>Man</td>\n      <td>...</td>\n      <td>472,759</td>\n      <td>72,736</td>\n      <td>148,994</td>\n      <td>148,526</td>\n      <td>102,503</td>\n      <td>332,746</td>\n      <td>45,180</td>\n      <td>103,563</td>\n      <td>106,829</td>\n      <td>77,174</td>\n    </tr>\n  </tbody>\n</table>\n<p>5 rows × 120 columns</p>\n</div>"
     },
     "metadata": {},
     "execution_count": 109
    }
   ],
   "source": [
    "df.head()"
   ]
  },
  {
   "cell_type": "code",
   "execution_count": 110,
   "metadata": {},
   "outputs": [
    {
     "output_type": "stream",
     "name": "stdout",
     "text": [
      "<class 'pandas.core.frame.DataFrame'>\nRangeIndex: 437 entries, 0 to 436\nColumns: 120 entries, District to Unnamed: 119\ndtypes: float64(2), object(118)\nmemory usage: 409.8+ KB\n"
     ]
    }
   ],
   "source": [
    "df.info()"
   ]
  },
  {
   "cell_type": "code",
   "execution_count": 132,
   "metadata": {},
   "outputs": [],
   "source": [
    "dfkeep = df.iloc[:, [1,2,7,8,9, 10, 11, 12, 13, 14, 15, 16, 17, 20, 21, 22, 23, 24, 25, 28, 29, 30, 31, 32, 33, 42, 46, 50]]"
   ]
  },
  {
   "cell_type": "code",
   "execution_count": 133,
   "metadata": {},
   "outputs": [
    {
     "output_type": "execute_result",
     "data": {
      "text/plain": [
       "      Code                        Party First Elected  Birth Year Gender  \\\n",
       "0      NaN                          NaN           NaN         NaN    NaN   \n",
       "1      USA  232D - 197R - 1L - 5 Vacant           NaN         NaN    NaN   \n",
       "2    AL-01                   Republican          2016      1955.0    Man   \n",
       "3    AL-02                   Republican          2010      1976.0  Woman   \n",
       "4    AL-03                   Republican          2002      1958.0    Man   \n",
       "..     ...                          ...           ...         ...    ...   \n",
       "432  WI-05                   Republican          1978      1943.0    Man   \n",
       "433  WI-06                   Republican          2014      1955.0    Man   \n",
       "434  WI-07                   Republican  2020 Special      1957.0    Man   \n",
       "435  WI-08                   Republican          2016      1984.0    Man   \n",
       "436  WY-AL                   Republican          2016      1966.0  Woman   \n",
       "\n",
       "          Race/ Ethnicity                    Religion LGBTQ  \\\n",
       "0                     NaN                         NaN   NaN   \n",
       "1                     NaN                         NaN   NaN   \n",
       "2    White - Non-Hispanic    Christian - Episcopalian    No   \n",
       "3    White - Non-Hispanic    Christian - Presbyterian    No   \n",
       "4    White - Non-Hispanic         Christian - Baptist    No   \n",
       "..                    ...                         ...   ...   \n",
       "432  White - Non-Hispanic  Christian - Roman Catholic    No   \n",
       "433  White - Non-Hispanic        Christian - Lutheran    No   \n",
       "434  White - Non-Hispanic                   Christian    No   \n",
       "435  White - Non-Hispanic  Christian - Roman Catholic    No   \n",
       "436  White - Non-Hispanic       Christian - Methodist    No   \n",
       "\n",
       "    Pre-2018 Incumbent 2016 President  ... Unnamed: 25  \\\n",
       "0                  NaN        Clinton  ...         Rep   \n",
       "1                  NaN           48.4  ...        51.4   \n",
       "2                  Won           34.1  ...        68.2   \n",
       "3                  Won           33.0  ...        67.3   \n",
       "4                  Won           32.3  ...        66.1   \n",
       "..                 ...            ...  ...         ...   \n",
       "432                Won           37.3  ...        69.5   \n",
       "433                Won           38.8  ...        56.8   \n",
       "434                Won           37.3  ...        59.3   \n",
       "435                Won           38.6  ...        65.0   \n",
       "436                Won           22.5  ...        68.5   \n",
       "\n",
       "    2014-2018 ACS Citizen Adult Population Unnamed: 29 Unnamed: 30  \\\n",
       "0                                    White       Black      Latino   \n",
       "1                                     68.7        12.5        12.1   \n",
       "2                                     68.3        26.4         2.1   \n",
       "3                                     65.3        30.5         1.9   \n",
       "4                                     70.7        25.3         1.8   \n",
       "..                                     ...         ...         ...   \n",
       "432                                   91.5         2.1         3.6   \n",
       "433                                   93.0         1.7         2.5   \n",
       "434                                   94.2         0.6         1.2   \n",
       "435                                   91.8         1.1         2.4   \n",
       "436                                   88.1         0.8         6.9   \n",
       "\n",
       "                    Unnamed: 31 Unnamed: 32 Unnamed: 33  \\\n",
       "0    Asian and Pacific Islander      Native       Other   \n",
       "1                           4.4         0.7         1.7   \n",
       "2                           1.1         1.1         1.1   \n",
       "3                           0.6         0.4         1.3   \n",
       "4                           0.8         0.3         1.0   \n",
       "..                          ...         ...         ...   \n",
       "432                         1.7         0.3         0.9   \n",
       "433                         1.6         0.4         0.8   \n",
       "434                         1.1         1.7         1.1   \n",
       "435                         1.5         2.1         1.1   \n",
       "436                         0.6         2.0         1.6   \n",
       "\n",
       "                     Unnamed: 42    Unnamed: 46 Non-College White Share  \n",
       "0    Bachelor's Degree or Higher  Median Income                     NaN  \n",
       "1                           31.5        $60,293                    44.5  \n",
       "2                          24.3         $47,952                    49.4  \n",
       "3                          22.5         $46,817                    48.8  \n",
       "4                          21.7         $46,576                    54.3  \n",
       "..                           ...            ...                     ...  \n",
       "432                        37.2         $70,304                    57.3  \n",
       "433                        25.8         $59,455                    68.4  \n",
       "434                        23.1         $55,016                    72.2  \n",
       "435                        26.0         $60,166                    67.3  \n",
       "436                        26.9         $62,268                    63.1  \n",
       "\n",
       "[437 rows x 28 columns]"
      ],
      "text/html": "<div>\n<style scoped>\n    .dataframe tbody tr th:only-of-type {\n        vertical-align: middle;\n    }\n\n    .dataframe tbody tr th {\n        vertical-align: top;\n    }\n\n    .dataframe thead th {\n        text-align: right;\n    }\n</style>\n<table border=\"1\" class=\"dataframe\">\n  <thead>\n    <tr style=\"text-align: right;\">\n      <th></th>\n      <th>Code</th>\n      <th>Party</th>\n      <th>First Elected</th>\n      <th>Birth Year</th>\n      <th>Gender</th>\n      <th>Race/ Ethnicity</th>\n      <th>Religion</th>\n      <th>LGBTQ</th>\n      <th>Pre-2018 Incumbent</th>\n      <th>2016 President</th>\n      <th>...</th>\n      <th>Unnamed: 25</th>\n      <th>2014-2018 ACS Citizen Adult Population</th>\n      <th>Unnamed: 29</th>\n      <th>Unnamed: 30</th>\n      <th>Unnamed: 31</th>\n      <th>Unnamed: 32</th>\n      <th>Unnamed: 33</th>\n      <th>Unnamed: 42</th>\n      <th>Unnamed: 46</th>\n      <th>Non-College White Share</th>\n    </tr>\n  </thead>\n  <tbody>\n    <tr>\n      <th>0</th>\n      <td>NaN</td>\n      <td>NaN</td>\n      <td>NaN</td>\n      <td>NaN</td>\n      <td>NaN</td>\n      <td>NaN</td>\n      <td>NaN</td>\n      <td>NaN</td>\n      <td>NaN</td>\n      <td>Clinton</td>\n      <td>...</td>\n      <td>Rep</td>\n      <td>White</td>\n      <td>Black</td>\n      <td>Latino</td>\n      <td>Asian and Pacific Islander</td>\n      <td>Native</td>\n      <td>Other</td>\n      <td>Bachelor's Degree or Higher</td>\n      <td>Median Income</td>\n      <td>NaN</td>\n    </tr>\n    <tr>\n      <th>1</th>\n      <td>USA</td>\n      <td>232D - 197R - 1L - 5 Vacant</td>\n      <td>NaN</td>\n      <td>NaN</td>\n      <td>NaN</td>\n      <td>NaN</td>\n      <td>NaN</td>\n      <td>NaN</td>\n      <td>NaN</td>\n      <td>48.4</td>\n      <td>...</td>\n      <td>51.4</td>\n      <td>68.7</td>\n      <td>12.5</td>\n      <td>12.1</td>\n      <td>4.4</td>\n      <td>0.7</td>\n      <td>1.7</td>\n      <td>31.5</td>\n      <td>$60,293</td>\n      <td>44.5</td>\n    </tr>\n    <tr>\n      <th>2</th>\n      <td>AL-01</td>\n      <td>Republican</td>\n      <td>2016</td>\n      <td>1955.0</td>\n      <td>Man</td>\n      <td>White - Non-Hispanic</td>\n      <td>Christian - Episcopalian</td>\n      <td>No</td>\n      <td>Won</td>\n      <td>34.1</td>\n      <td>...</td>\n      <td>68.2</td>\n      <td>68.3</td>\n      <td>26.4</td>\n      <td>2.1</td>\n      <td>1.1</td>\n      <td>1.1</td>\n      <td>1.1</td>\n      <td>24.3</td>\n      <td>$47,952</td>\n      <td>49.4</td>\n    </tr>\n    <tr>\n      <th>3</th>\n      <td>AL-02</td>\n      <td>Republican</td>\n      <td>2010</td>\n      <td>1976.0</td>\n      <td>Woman</td>\n      <td>White - Non-Hispanic</td>\n      <td>Christian - Presbyterian</td>\n      <td>No</td>\n      <td>Won</td>\n      <td>33.0</td>\n      <td>...</td>\n      <td>67.3</td>\n      <td>65.3</td>\n      <td>30.5</td>\n      <td>1.9</td>\n      <td>0.6</td>\n      <td>0.4</td>\n      <td>1.3</td>\n      <td>22.5</td>\n      <td>$46,817</td>\n      <td>48.8</td>\n    </tr>\n    <tr>\n      <th>4</th>\n      <td>AL-03</td>\n      <td>Republican</td>\n      <td>2002</td>\n      <td>1958.0</td>\n      <td>Man</td>\n      <td>White - Non-Hispanic</td>\n      <td>Christian - Baptist</td>\n      <td>No</td>\n      <td>Won</td>\n      <td>32.3</td>\n      <td>...</td>\n      <td>66.1</td>\n      <td>70.7</td>\n      <td>25.3</td>\n      <td>1.8</td>\n      <td>0.8</td>\n      <td>0.3</td>\n      <td>1.0</td>\n      <td>21.7</td>\n      <td>$46,576</td>\n      <td>54.3</td>\n    </tr>\n    <tr>\n      <th>...</th>\n      <td>...</td>\n      <td>...</td>\n      <td>...</td>\n      <td>...</td>\n      <td>...</td>\n      <td>...</td>\n      <td>...</td>\n      <td>...</td>\n      <td>...</td>\n      <td>...</td>\n      <td>...</td>\n      <td>...</td>\n      <td>...</td>\n      <td>...</td>\n      <td>...</td>\n      <td>...</td>\n      <td>...</td>\n      <td>...</td>\n      <td>...</td>\n      <td>...</td>\n      <td>...</td>\n    </tr>\n    <tr>\n      <th>432</th>\n      <td>WI-05</td>\n      <td>Republican</td>\n      <td>1978</td>\n      <td>1943.0</td>\n      <td>Man</td>\n      <td>White - Non-Hispanic</td>\n      <td>Christian - Roman Catholic</td>\n      <td>No</td>\n      <td>Won</td>\n      <td>37.3</td>\n      <td>...</td>\n      <td>69.5</td>\n      <td>91.5</td>\n      <td>2.1</td>\n      <td>3.6</td>\n      <td>1.7</td>\n      <td>0.3</td>\n      <td>0.9</td>\n      <td>37.2</td>\n      <td>$70,304</td>\n      <td>57.3</td>\n    </tr>\n    <tr>\n      <th>433</th>\n      <td>WI-06</td>\n      <td>Republican</td>\n      <td>2014</td>\n      <td>1955.0</td>\n      <td>Man</td>\n      <td>White - Non-Hispanic</td>\n      <td>Christian - Lutheran</td>\n      <td>No</td>\n      <td>Won</td>\n      <td>38.8</td>\n      <td>...</td>\n      <td>56.8</td>\n      <td>93.0</td>\n      <td>1.7</td>\n      <td>2.5</td>\n      <td>1.6</td>\n      <td>0.4</td>\n      <td>0.8</td>\n      <td>25.8</td>\n      <td>$59,455</td>\n      <td>68.4</td>\n    </tr>\n    <tr>\n      <th>434</th>\n      <td>WI-07</td>\n      <td>Republican</td>\n      <td>2020 Special</td>\n      <td>1957.0</td>\n      <td>Man</td>\n      <td>White - Non-Hispanic</td>\n      <td>Christian</td>\n      <td>No</td>\n      <td>Won</td>\n      <td>37.3</td>\n      <td>...</td>\n      <td>59.3</td>\n      <td>94.2</td>\n      <td>0.6</td>\n      <td>1.2</td>\n      <td>1.1</td>\n      <td>1.7</td>\n      <td>1.1</td>\n      <td>23.1</td>\n      <td>$55,016</td>\n      <td>72.2</td>\n    </tr>\n    <tr>\n      <th>435</th>\n      <td>WI-08</td>\n      <td>Republican</td>\n      <td>2016</td>\n      <td>1984.0</td>\n      <td>Man</td>\n      <td>White - Non-Hispanic</td>\n      <td>Christian - Roman Catholic</td>\n      <td>No</td>\n      <td>Won</td>\n      <td>38.6</td>\n      <td>...</td>\n      <td>65.0</td>\n      <td>91.8</td>\n      <td>1.1</td>\n      <td>2.4</td>\n      <td>1.5</td>\n      <td>2.1</td>\n      <td>1.1</td>\n      <td>26.0</td>\n      <td>$60,166</td>\n      <td>67.3</td>\n    </tr>\n    <tr>\n      <th>436</th>\n      <td>WY-AL</td>\n      <td>Republican</td>\n      <td>2016</td>\n      <td>1966.0</td>\n      <td>Woman</td>\n      <td>White - Non-Hispanic</td>\n      <td>Christian - Methodist</td>\n      <td>No</td>\n      <td>Won</td>\n      <td>22.5</td>\n      <td>...</td>\n      <td>68.5</td>\n      <td>88.1</td>\n      <td>0.8</td>\n      <td>6.9</td>\n      <td>0.6</td>\n      <td>2.0</td>\n      <td>1.6</td>\n      <td>26.9</td>\n      <td>$62,268</td>\n      <td>63.1</td>\n    </tr>\n  </tbody>\n</table>\n<p>437 rows × 28 columns</p>\n</div>"
     },
     "metadata": {},
     "execution_count": 133
    }
   ],
   "source": [
    "dfkeep"
   ]
  },
  {
   "cell_type": "code",
   "execution_count": 134,
   "metadata": {},
   "outputs": [
    {
     "output_type": "execute_result",
     "data": {
      "text/plain": [
       "Index(['Code', 'Party', 'First Elected', 'Birth Year', 'Gender',\n",
       "       'Race/ Ethnicity', 'Religion', 'LGBTQ', 'Pre-2018 Incumbent',\n",
       "       '2016 President', 'Unnamed: 15', '2012 President', 'Unnamed: 17',\n",
       "       '2018 US House', 'Unnamed: 21', '2016 US House', 'Unnamed: 23',\n",
       "       '2014 US House', 'Unnamed: 25',\n",
       "       '2014-2018 ACS Citizen Adult Population', 'Unnamed: 29', 'Unnamed: 30',\n",
       "       'Unnamed: 31', 'Unnamed: 32', 'Unnamed: 33', 'Unnamed: 42',\n",
       "       'Unnamed: 46', 'Non-College White Share'],\n",
       "      dtype='object')"
      ]
     },
     "metadata": {},
     "execution_count": 134
    }
   ],
   "source": [
    "dfkeep.columns"
   ]
  },
  {
   "cell_type": "code",
   "execution_count": 135,
   "metadata": {},
   "outputs": [],
   "source": [
    "dfkeep.rename(columns = {'2016 President': 'clinton2016', 'Unnamed: 15': 'trump2016', '2012 President': 'obama2012', 'Unnamed: 17': 'romney2012', '2018 US House': '2018dem', 'Unnamed: 21': '2018rep', '2016 US House': '2016dem', 'Unnamed: 23': '2016rep', '2014 US House': '2014dem', 'Unnamed: 25': '2014rep', '2014-2018 ACS Citizen Adult Population': 'whiteper', 'Unnamed: 29': 'blackper', 'Unnamed: 30': 'latinoper', 'Unnamed: 31': 'asianper', 'Unnamed: 32': 'nativeper', 'Unnamed: 33': 'other', 'Unnamed: 42': 'bach_higher', 'Unnamed: 46': 'median_income', 'Non-College White Share': 'noncol_white'}, inplace=True)"
   ]
  },
  {
   "cell_type": "code",
   "execution_count": 136,
   "metadata": {},
   "outputs": [],
   "source": [
    "dfdrop = dfkeep.drop(axis=0, index=[0, 1])"
   ]
  },
  {
   "cell_type": "code",
   "execution_count": 204,
   "metadata": {},
   "outputs": [
    {
     "output_type": "execute_result",
     "data": {
      "text/plain": [
       "Code                                     AL-01\n",
       "Party                               Republican\n",
       "First Elected                             2016\n",
       "Birth Year                                1955\n",
       "Gender                                     Man\n",
       "Race/ Ethnicity           White - Non-Hispanic\n",
       "Religion              Christian - Episcopalian\n",
       "LGBTQ                                       No\n",
       "Pre-2018 Incumbent                         Won\n",
       "clinton2016                               34.1\n",
       "trump2016                                 63.5\n",
       "obama2012                                 37.4\n",
       "romney2012                                61.8\n",
       "2018dem                                   36.8\n",
       "2018rep                                   63.2\n",
       "2016dem                                    0.0\n",
       "2016rep                                   96.4\n",
       "2014dem                                   31.7\n",
       "2014rep                                   68.2\n",
       "whiteper                                  68.3\n",
       "blackper                                  26.4\n",
       "latinoper                                  2.1\n",
       "asianper                                   1.1\n",
       "nativeper                                  1.1\n",
       "other                                      1.1\n",
       "bach_higher                              24.3 \n",
       "median_income                          $47,952\n",
       "noncol_white                              49.4\n",
       "Name: 2, dtype: object"
      ]
     },
     "metadata": {},
     "execution_count": 204
    }
   ],
   "source": [
    "dfdrop.loc[2]"
   ]
  },
  {
   "cell_type": "code",
   "execution_count": 127,
   "metadata": {},
   "outputs": [
    {
     "output_type": "execute_result",
     "data": {
      "text/plain": [
       "Index(['Code', 'Party', 'First Elected', 'Birth Year', 'Gender',\n",
       "       'Race/ Ethnicity', 'Religion', 'LGBTQ', 'Pre-2018 Incumbent',\n",
       "       'clinton2016', 'trump2016', 'obama2012', 'romney2012', '2016dem',\n",
       "       '2016rep', '2014dem', '2014rep', 'whiteper', 'blackper', 'latinoper',\n",
       "       'asianper', 'nativeper', 'other', 'bach_higher', 'median_income',\n",
       "       'noncol_white'],\n",
       "      dtype='object')"
      ]
     },
     "metadata": {},
     "execution_count": 127
    }
   ],
   "source": [
    "dfdrop.columns"
   ]
  },
  {
   "cell_type": "code",
   "execution_count": 130,
   "metadata": {},
   "outputs": [],
   "source": [
    "\n",
    "# dfdrop['2016presmarg'] = dfdrop['clinton2016'] - dfdrop['trump2016']"
   ]
  },
  {
   "cell_type": "code",
   "execution_count": 272,
   "metadata": {},
   "outputs": [],
   "source": [
    "dfa = dfdrop.copy()\n"
   ]
  },
  {
   "cell_type": "code",
   "execution_count": 273,
   "metadata": {},
   "outputs": [
    {
     "output_type": "execute_result",
     "data": {
      "text/plain": [
       "2      Republican\n",
       "3      Republican\n",
       "4      Republican\n",
       "5      Republican\n",
       "6      Republican\n",
       "          ...    \n",
       "432    Republican\n",
       "433    Republican\n",
       "434    Republican\n",
       "435    Republican\n",
       "436    Republican\n",
       "Name: Party, Length: 435, dtype: object"
      ]
     },
     "metadata": {},
     "execution_count": 273
    }
   ],
   "source": [
    "dfa.iloc[:,1]"
   ]
  },
  {
   "cell_type": "code",
   "execution_count": 274,
   "metadata": {},
   "outputs": [],
   "source": [
    "dfad = dfa#.drop(axis=0, index=[313, 314, 315, 316, 317, 318, 319,320, 321, 322, 323, 324])"
   ]
  },
  {
   "cell_type": "code",
   "execution_count": 275,
   "metadata": {},
   "outputs": [],
   "source": [
    "#dfad = dfad.drop(axis=0, index=[326,327,328,329,330])"
   ]
  },
  {
   "cell_type": "code",
   "execution_count": 276,
   "metadata": {},
   "outputs": [],
   "source": [
    "dfad.iloc[:, [ 3, 9, 10, 11, 12, 13, 14, 15, 16, 17, 18, 19, 20, 21, 22, 23, 24, 25]] = dfad.iloc[:, [ 3, 9, 10, 11, 12, 13, 14, 15, 16, 17, 18, 19, 20, 21, 22, 23, 24, 25]].apply(pd.to_numeric, errors='coerce')"
   ]
  },
  {
   "cell_type": "code",
   "execution_count": 277,
   "metadata": {},
   "outputs": [
    {
     "output_type": "execute_result",
     "data": {
      "text/plain": [
       "Index(['Code', 'Party', 'First Elected', 'Birth Year', 'Gender',\n",
       "       'Race/ Ethnicity', 'Religion', 'LGBTQ', 'Pre-2018 Incumbent',\n",
       "       'clinton2016', 'trump2016', 'obama2012', 'romney2012', '2018dem',\n",
       "       '2018rep', '2016dem', '2016rep', '2014dem', '2014rep', 'whiteper',\n",
       "       'blackper', 'latinoper', 'asianper', 'nativeper', 'other',\n",
       "       'bach_higher', 'median_income', 'noncol_white'],\n",
       "      dtype='object')"
      ]
     },
     "metadata": {},
     "execution_count": 277
    }
   ],
   "source": [
    "dfad.columns"
   ]
  },
  {
   "cell_type": "code",
   "execution_count": 278,
   "metadata": {},
   "outputs": [],
   "source": [
    "dfad['2016presmarg'] = dfad['clinton2016'] - dfad['trump2016']\n",
    "dfad['2012presmarg'] = dfad['obama2012'] - dfad['romney2012']\n",
    "dfad['2016marg'] = dfad['2016dem'] - dfad['2016rep']\n",
    "dfad['2014marg'] = dfad['2014dem'] - dfad['2014rep']\n"
   ]
  },
  {
   "cell_type": "code",
   "execution_count": 279,
   "metadata": {},
   "outputs": [
    {
     "output_type": "execute_result",
     "data": {
      "text/plain": [
       "      Code       Party First Elected  Birth Year Gender       Race/ Ethnicity  \\\n",
       "2    AL-01  Republican          2016      1955.0    Man  White - Non-Hispanic   \n",
       "3    AL-02  Republican          2010      1976.0  Woman  White - Non-Hispanic   \n",
       "4    AL-03  Republican          2002      1958.0    Man  White - Non-Hispanic   \n",
       "5    AL-04  Republican          1996      1965.0    Man  White - Non-Hispanic   \n",
       "6    AL-05  Republican          2010      1954.0    Man  White - Non-Hispanic   \n",
       "..     ...         ...           ...         ...    ...                   ...   \n",
       "432  WI-05  Republican          1978      1943.0    Man  White - Non-Hispanic   \n",
       "433  WI-06  Republican          2014      1955.0    Man  White - Non-Hispanic   \n",
       "434  WI-07  Republican  2020 Special      1957.0    Man  White - Non-Hispanic   \n",
       "435  WI-08  Republican          2016      1984.0    Man  White - Non-Hispanic   \n",
       "436  WY-AL  Republican          2016      1966.0  Woman  White - Non-Hispanic   \n",
       "\n",
       "                                     Religion LGBTQ Pre-2018 Incumbent  \\\n",
       "2                    Christian - Episcopalian    No                Won   \n",
       "3                    Christian - Presbyterian    No                Won   \n",
       "4                         Christian - Baptist    No                Won   \n",
       "5               Christian - Congregationalist    No                Won   \n",
       "6    Christian - Nondenominational Protestant    No                Won   \n",
       "..                                        ...   ...                ...   \n",
       "432                Christian - Roman Catholic    No                Won   \n",
       "433                      Christian - Lutheran    No                Won   \n",
       "434                                 Christian    No                Won   \n",
       "435                Christian - Roman Catholic    No                Won   \n",
       "436                     Christian - Methodist    No                Won   \n",
       "\n",
       "     clinton2016  ...  asianper  nativeper  other  bach_higher  median_income  \\\n",
       "2           34.1  ...       1.1        1.1    1.1         24.3        $47,952   \n",
       "3           33.0  ...       0.6        0.4    1.3         22.5        $46,817   \n",
       "4           32.3  ...       0.8        0.3    1.0         21.7        $46,576   \n",
       "5           17.4  ...       0.4        0.7    1.2         17.2        $43,458   \n",
       "6           31.3  ...       1.2        0.7    1.8         31.8        $55,043   \n",
       "..           ...  ...       ...        ...    ...          ...            ...   \n",
       "432         37.3  ...       1.7        0.3    0.9         37.2        $70,304   \n",
       "433         38.8  ...       1.6        0.4    0.8         25.8        $59,455   \n",
       "434         37.3  ...       1.1        1.7    1.1         23.1        $55,016   \n",
       "435         38.6  ...       1.5        2.1    1.1         26.0        $60,166   \n",
       "436         22.5  ...       0.6        2.0    1.6         26.9        $62,268   \n",
       "\n",
       "     noncol_white  2016presmarg  2012presmarg  2016marg  2014marg  \n",
       "2            49.4         -29.4         -24.4     -96.4     -36.5  \n",
       "3            48.8         -31.9         -26.5      -8.3     -34.7  \n",
       "4            54.3         -33.0         -25.5     -34.0     -32.4  \n",
       "5            72.7         -63.0         -50.8     -98.5     -98.6  \n",
       "6            51.4         -33.4         -29.0     -33.5     -74.4  \n",
       "..            ...           ...           ...       ...       ...  \n",
       "432          57.3         -20.1         -23.6     -37.4     -39.1  \n",
       "433          68.4         -16.9          -7.3     -19.9     -15.9  \n",
       "434          72.2         -20.4          -3.1     -23.4     -19.9  \n",
       "435          67.3         -17.6          -3.7     -25.3     -30.1  \n",
       "436          63.1         -47.6         -41.2     -32.0     -45.6  \n",
       "\n",
       "[435 rows x 32 columns]"
      ],
      "text/html": "<div>\n<style scoped>\n    .dataframe tbody tr th:only-of-type {\n        vertical-align: middle;\n    }\n\n    .dataframe tbody tr th {\n        vertical-align: top;\n    }\n\n    .dataframe thead th {\n        text-align: right;\n    }\n</style>\n<table border=\"1\" class=\"dataframe\">\n  <thead>\n    <tr style=\"text-align: right;\">\n      <th></th>\n      <th>Code</th>\n      <th>Party</th>\n      <th>First Elected</th>\n      <th>Birth Year</th>\n      <th>Gender</th>\n      <th>Race/ Ethnicity</th>\n      <th>Religion</th>\n      <th>LGBTQ</th>\n      <th>Pre-2018 Incumbent</th>\n      <th>clinton2016</th>\n      <th>...</th>\n      <th>asianper</th>\n      <th>nativeper</th>\n      <th>other</th>\n      <th>bach_higher</th>\n      <th>median_income</th>\n      <th>noncol_white</th>\n      <th>2016presmarg</th>\n      <th>2012presmarg</th>\n      <th>2016marg</th>\n      <th>2014marg</th>\n    </tr>\n  </thead>\n  <tbody>\n    <tr>\n      <th>2</th>\n      <td>AL-01</td>\n      <td>Republican</td>\n      <td>2016</td>\n      <td>1955.0</td>\n      <td>Man</td>\n      <td>White - Non-Hispanic</td>\n      <td>Christian - Episcopalian</td>\n      <td>No</td>\n      <td>Won</td>\n      <td>34.1</td>\n      <td>...</td>\n      <td>1.1</td>\n      <td>1.1</td>\n      <td>1.1</td>\n      <td>24.3</td>\n      <td>$47,952</td>\n      <td>49.4</td>\n      <td>-29.4</td>\n      <td>-24.4</td>\n      <td>-96.4</td>\n      <td>-36.5</td>\n    </tr>\n    <tr>\n      <th>3</th>\n      <td>AL-02</td>\n      <td>Republican</td>\n      <td>2010</td>\n      <td>1976.0</td>\n      <td>Woman</td>\n      <td>White - Non-Hispanic</td>\n      <td>Christian - Presbyterian</td>\n      <td>No</td>\n      <td>Won</td>\n      <td>33.0</td>\n      <td>...</td>\n      <td>0.6</td>\n      <td>0.4</td>\n      <td>1.3</td>\n      <td>22.5</td>\n      <td>$46,817</td>\n      <td>48.8</td>\n      <td>-31.9</td>\n      <td>-26.5</td>\n      <td>-8.3</td>\n      <td>-34.7</td>\n    </tr>\n    <tr>\n      <th>4</th>\n      <td>AL-03</td>\n      <td>Republican</td>\n      <td>2002</td>\n      <td>1958.0</td>\n      <td>Man</td>\n      <td>White - Non-Hispanic</td>\n      <td>Christian - Baptist</td>\n      <td>No</td>\n      <td>Won</td>\n      <td>32.3</td>\n      <td>...</td>\n      <td>0.8</td>\n      <td>0.3</td>\n      <td>1.0</td>\n      <td>21.7</td>\n      <td>$46,576</td>\n      <td>54.3</td>\n      <td>-33.0</td>\n      <td>-25.5</td>\n      <td>-34.0</td>\n      <td>-32.4</td>\n    </tr>\n    <tr>\n      <th>5</th>\n      <td>AL-04</td>\n      <td>Republican</td>\n      <td>1996</td>\n      <td>1965.0</td>\n      <td>Man</td>\n      <td>White - Non-Hispanic</td>\n      <td>Christian - Congregationalist</td>\n      <td>No</td>\n      <td>Won</td>\n      <td>17.4</td>\n      <td>...</td>\n      <td>0.4</td>\n      <td>0.7</td>\n      <td>1.2</td>\n      <td>17.2</td>\n      <td>$43,458</td>\n      <td>72.7</td>\n      <td>-63.0</td>\n      <td>-50.8</td>\n      <td>-98.5</td>\n      <td>-98.6</td>\n    </tr>\n    <tr>\n      <th>6</th>\n      <td>AL-05</td>\n      <td>Republican</td>\n      <td>2010</td>\n      <td>1954.0</td>\n      <td>Man</td>\n      <td>White - Non-Hispanic</td>\n      <td>Christian - Nondenominational Protestant</td>\n      <td>No</td>\n      <td>Won</td>\n      <td>31.3</td>\n      <td>...</td>\n      <td>1.2</td>\n      <td>0.7</td>\n      <td>1.8</td>\n      <td>31.8</td>\n      <td>$55,043</td>\n      <td>51.4</td>\n      <td>-33.4</td>\n      <td>-29.0</td>\n      <td>-33.5</td>\n      <td>-74.4</td>\n    </tr>\n    <tr>\n      <th>...</th>\n      <td>...</td>\n      <td>...</td>\n      <td>...</td>\n      <td>...</td>\n      <td>...</td>\n      <td>...</td>\n      <td>...</td>\n      <td>...</td>\n      <td>...</td>\n      <td>...</td>\n      <td>...</td>\n      <td>...</td>\n      <td>...</td>\n      <td>...</td>\n      <td>...</td>\n      <td>...</td>\n      <td>...</td>\n      <td>...</td>\n      <td>...</td>\n      <td>...</td>\n      <td>...</td>\n    </tr>\n    <tr>\n      <th>432</th>\n      <td>WI-05</td>\n      <td>Republican</td>\n      <td>1978</td>\n      <td>1943.0</td>\n      <td>Man</td>\n      <td>White - Non-Hispanic</td>\n      <td>Christian - Roman Catholic</td>\n      <td>No</td>\n      <td>Won</td>\n      <td>37.3</td>\n      <td>...</td>\n      <td>1.7</td>\n      <td>0.3</td>\n      <td>0.9</td>\n      <td>37.2</td>\n      <td>$70,304</td>\n      <td>57.3</td>\n      <td>-20.1</td>\n      <td>-23.6</td>\n      <td>-37.4</td>\n      <td>-39.1</td>\n    </tr>\n    <tr>\n      <th>433</th>\n      <td>WI-06</td>\n      <td>Republican</td>\n      <td>2014</td>\n      <td>1955.0</td>\n      <td>Man</td>\n      <td>White - Non-Hispanic</td>\n      <td>Christian - Lutheran</td>\n      <td>No</td>\n      <td>Won</td>\n      <td>38.8</td>\n      <td>...</td>\n      <td>1.6</td>\n      <td>0.4</td>\n      <td>0.8</td>\n      <td>25.8</td>\n      <td>$59,455</td>\n      <td>68.4</td>\n      <td>-16.9</td>\n      <td>-7.3</td>\n      <td>-19.9</td>\n      <td>-15.9</td>\n    </tr>\n    <tr>\n      <th>434</th>\n      <td>WI-07</td>\n      <td>Republican</td>\n      <td>2020 Special</td>\n      <td>1957.0</td>\n      <td>Man</td>\n      <td>White - Non-Hispanic</td>\n      <td>Christian</td>\n      <td>No</td>\n      <td>Won</td>\n      <td>37.3</td>\n      <td>...</td>\n      <td>1.1</td>\n      <td>1.7</td>\n      <td>1.1</td>\n      <td>23.1</td>\n      <td>$55,016</td>\n      <td>72.2</td>\n      <td>-20.4</td>\n      <td>-3.1</td>\n      <td>-23.4</td>\n      <td>-19.9</td>\n    </tr>\n    <tr>\n      <th>435</th>\n      <td>WI-08</td>\n      <td>Republican</td>\n      <td>2016</td>\n      <td>1984.0</td>\n      <td>Man</td>\n      <td>White - Non-Hispanic</td>\n      <td>Christian - Roman Catholic</td>\n      <td>No</td>\n      <td>Won</td>\n      <td>38.6</td>\n      <td>...</td>\n      <td>1.5</td>\n      <td>2.1</td>\n      <td>1.1</td>\n      <td>26.0</td>\n      <td>$60,166</td>\n      <td>67.3</td>\n      <td>-17.6</td>\n      <td>-3.7</td>\n      <td>-25.3</td>\n      <td>-30.1</td>\n    </tr>\n    <tr>\n      <th>436</th>\n      <td>WY-AL</td>\n      <td>Republican</td>\n      <td>2016</td>\n      <td>1966.0</td>\n      <td>Woman</td>\n      <td>White - Non-Hispanic</td>\n      <td>Christian - Methodist</td>\n      <td>No</td>\n      <td>Won</td>\n      <td>22.5</td>\n      <td>...</td>\n      <td>0.6</td>\n      <td>2.0</td>\n      <td>1.6</td>\n      <td>26.9</td>\n      <td>$62,268</td>\n      <td>63.1</td>\n      <td>-47.6</td>\n      <td>-41.2</td>\n      <td>-32.0</td>\n      <td>-45.6</td>\n    </tr>\n  </tbody>\n</table>\n<p>435 rows × 32 columns</p>\n</div>"
     },
     "metadata": {},
     "execution_count": 279
    }
   ],
   "source": [
    "dfad"
   ]
  },
  {
   "cell_type": "code",
   "execution_count": 102,
   "metadata": {},
   "outputs": [],
   "source": []
  },
  {
   "cell_type": "code",
   "execution_count": 103,
   "metadata": {},
   "outputs": [],
   "source": [
    "\n"
   ]
  },
  {
   "cell_type": "code",
   "execution_count": 280,
   "metadata": {},
   "outputs": [],
   "source": [
    "dfad['Code'] = dfad['Code'].apply(lambda x: x if x[3] != '0' else x[:3] + x[4])"
   ]
  },
  {
   "cell_type": "code",
   "execution_count": null,
   "metadata": {},
   "outputs": [],
   "source": [
    "dfad['age'] = 2"
   ]
  },
  {
   "cell_type": "code",
   "execution_count": 281,
   "metadata": {},
   "outputs": [
    {
     "output_type": "execute_result",
     "data": {
      "text/plain": [
       "      Code       Party First Elected  Birth Year Gender       Race/ Ethnicity  \\\n",
       "2     AL-1  Republican          2016      1955.0    Man  White - Non-Hispanic   \n",
       "3     AL-2  Republican          2010      1976.0  Woman  White - Non-Hispanic   \n",
       "4     AL-3  Republican          2002      1958.0    Man  White - Non-Hispanic   \n",
       "5     AL-4  Republican          1996      1965.0    Man  White - Non-Hispanic   \n",
       "6     AL-5  Republican          2010      1954.0    Man  White - Non-Hispanic   \n",
       "..     ...         ...           ...         ...    ...                   ...   \n",
       "432   WI-5  Republican          1978      1943.0    Man  White - Non-Hispanic   \n",
       "433   WI-6  Republican          2014      1955.0    Man  White - Non-Hispanic   \n",
       "434   WI-7  Republican  2020 Special      1957.0    Man  White - Non-Hispanic   \n",
       "435   WI-8  Republican          2016      1984.0    Man  White - Non-Hispanic   \n",
       "436  WY-AL  Republican          2016      1966.0  Woman  White - Non-Hispanic   \n",
       "\n",
       "                                     Religion LGBTQ Pre-2018 Incumbent  \\\n",
       "2                    Christian - Episcopalian    No                Won   \n",
       "3                    Christian - Presbyterian    No                Won   \n",
       "4                         Christian - Baptist    No                Won   \n",
       "5               Christian - Congregationalist    No                Won   \n",
       "6    Christian - Nondenominational Protestant    No                Won   \n",
       "..                                        ...   ...                ...   \n",
       "432                Christian - Roman Catholic    No                Won   \n",
       "433                      Christian - Lutheran    No                Won   \n",
       "434                                 Christian    No                Won   \n",
       "435                Christian - Roman Catholic    No                Won   \n",
       "436                     Christian - Methodist    No                Won   \n",
       "\n",
       "     clinton2016  ...  asianper  nativeper  other  bach_higher  median_income  \\\n",
       "2           34.1  ...       1.1        1.1    1.1         24.3        $47,952   \n",
       "3           33.0  ...       0.6        0.4    1.3         22.5        $46,817   \n",
       "4           32.3  ...       0.8        0.3    1.0         21.7        $46,576   \n",
       "5           17.4  ...       0.4        0.7    1.2         17.2        $43,458   \n",
       "6           31.3  ...       1.2        0.7    1.8         31.8        $55,043   \n",
       "..           ...  ...       ...        ...    ...          ...            ...   \n",
       "432         37.3  ...       1.7        0.3    0.9         37.2        $70,304   \n",
       "433         38.8  ...       1.6        0.4    0.8         25.8        $59,455   \n",
       "434         37.3  ...       1.1        1.7    1.1         23.1        $55,016   \n",
       "435         38.6  ...       1.5        2.1    1.1         26.0        $60,166   \n",
       "436         22.5  ...       0.6        2.0    1.6         26.9        $62,268   \n",
       "\n",
       "     noncol_white  2016presmarg  2012presmarg  2016marg  2014marg  \n",
       "2            49.4         -29.4         -24.4     -96.4     -36.5  \n",
       "3            48.8         -31.9         -26.5      -8.3     -34.7  \n",
       "4            54.3         -33.0         -25.5     -34.0     -32.4  \n",
       "5            72.7         -63.0         -50.8     -98.5     -98.6  \n",
       "6            51.4         -33.4         -29.0     -33.5     -74.4  \n",
       "..            ...           ...           ...       ...       ...  \n",
       "432          57.3         -20.1         -23.6     -37.4     -39.1  \n",
       "433          68.4         -16.9          -7.3     -19.9     -15.9  \n",
       "434          72.2         -20.4          -3.1     -23.4     -19.9  \n",
       "435          67.3         -17.6          -3.7     -25.3     -30.1  \n",
       "436          63.1         -47.6         -41.2     -32.0     -45.6  \n",
       "\n",
       "[435 rows x 32 columns]"
      ],
      "text/html": "<div>\n<style scoped>\n    .dataframe tbody tr th:only-of-type {\n        vertical-align: middle;\n    }\n\n    .dataframe tbody tr th {\n        vertical-align: top;\n    }\n\n    .dataframe thead th {\n        text-align: right;\n    }\n</style>\n<table border=\"1\" class=\"dataframe\">\n  <thead>\n    <tr style=\"text-align: right;\">\n      <th></th>\n      <th>Code</th>\n      <th>Party</th>\n      <th>First Elected</th>\n      <th>Birth Year</th>\n      <th>Gender</th>\n      <th>Race/ Ethnicity</th>\n      <th>Religion</th>\n      <th>LGBTQ</th>\n      <th>Pre-2018 Incumbent</th>\n      <th>clinton2016</th>\n      <th>...</th>\n      <th>asianper</th>\n      <th>nativeper</th>\n      <th>other</th>\n      <th>bach_higher</th>\n      <th>median_income</th>\n      <th>noncol_white</th>\n      <th>2016presmarg</th>\n      <th>2012presmarg</th>\n      <th>2016marg</th>\n      <th>2014marg</th>\n    </tr>\n  </thead>\n  <tbody>\n    <tr>\n      <th>2</th>\n      <td>AL-1</td>\n      <td>Republican</td>\n      <td>2016</td>\n      <td>1955.0</td>\n      <td>Man</td>\n      <td>White - Non-Hispanic</td>\n      <td>Christian - Episcopalian</td>\n      <td>No</td>\n      <td>Won</td>\n      <td>34.1</td>\n      <td>...</td>\n      <td>1.1</td>\n      <td>1.1</td>\n      <td>1.1</td>\n      <td>24.3</td>\n      <td>$47,952</td>\n      <td>49.4</td>\n      <td>-29.4</td>\n      <td>-24.4</td>\n      <td>-96.4</td>\n      <td>-36.5</td>\n    </tr>\n    <tr>\n      <th>3</th>\n      <td>AL-2</td>\n      <td>Republican</td>\n      <td>2010</td>\n      <td>1976.0</td>\n      <td>Woman</td>\n      <td>White - Non-Hispanic</td>\n      <td>Christian - Presbyterian</td>\n      <td>No</td>\n      <td>Won</td>\n      <td>33.0</td>\n      <td>...</td>\n      <td>0.6</td>\n      <td>0.4</td>\n      <td>1.3</td>\n      <td>22.5</td>\n      <td>$46,817</td>\n      <td>48.8</td>\n      <td>-31.9</td>\n      <td>-26.5</td>\n      <td>-8.3</td>\n      <td>-34.7</td>\n    </tr>\n    <tr>\n      <th>4</th>\n      <td>AL-3</td>\n      <td>Republican</td>\n      <td>2002</td>\n      <td>1958.0</td>\n      <td>Man</td>\n      <td>White - Non-Hispanic</td>\n      <td>Christian - Baptist</td>\n      <td>No</td>\n      <td>Won</td>\n      <td>32.3</td>\n      <td>...</td>\n      <td>0.8</td>\n      <td>0.3</td>\n      <td>1.0</td>\n      <td>21.7</td>\n      <td>$46,576</td>\n      <td>54.3</td>\n      <td>-33.0</td>\n      <td>-25.5</td>\n      <td>-34.0</td>\n      <td>-32.4</td>\n    </tr>\n    <tr>\n      <th>5</th>\n      <td>AL-4</td>\n      <td>Republican</td>\n      <td>1996</td>\n      <td>1965.0</td>\n      <td>Man</td>\n      <td>White - Non-Hispanic</td>\n      <td>Christian - Congregationalist</td>\n      <td>No</td>\n      <td>Won</td>\n      <td>17.4</td>\n      <td>...</td>\n      <td>0.4</td>\n      <td>0.7</td>\n      <td>1.2</td>\n      <td>17.2</td>\n      <td>$43,458</td>\n      <td>72.7</td>\n      <td>-63.0</td>\n      <td>-50.8</td>\n      <td>-98.5</td>\n      <td>-98.6</td>\n    </tr>\n    <tr>\n      <th>6</th>\n      <td>AL-5</td>\n      <td>Republican</td>\n      <td>2010</td>\n      <td>1954.0</td>\n      <td>Man</td>\n      <td>White - Non-Hispanic</td>\n      <td>Christian - Nondenominational Protestant</td>\n      <td>No</td>\n      <td>Won</td>\n      <td>31.3</td>\n      <td>...</td>\n      <td>1.2</td>\n      <td>0.7</td>\n      <td>1.8</td>\n      <td>31.8</td>\n      <td>$55,043</td>\n      <td>51.4</td>\n      <td>-33.4</td>\n      <td>-29.0</td>\n      <td>-33.5</td>\n      <td>-74.4</td>\n    </tr>\n    <tr>\n      <th>...</th>\n      <td>...</td>\n      <td>...</td>\n      <td>...</td>\n      <td>...</td>\n      <td>...</td>\n      <td>...</td>\n      <td>...</td>\n      <td>...</td>\n      <td>...</td>\n      <td>...</td>\n      <td>...</td>\n      <td>...</td>\n      <td>...</td>\n      <td>...</td>\n      <td>...</td>\n      <td>...</td>\n      <td>...</td>\n      <td>...</td>\n      <td>...</td>\n      <td>...</td>\n      <td>...</td>\n    </tr>\n    <tr>\n      <th>432</th>\n      <td>WI-5</td>\n      <td>Republican</td>\n      <td>1978</td>\n      <td>1943.0</td>\n      <td>Man</td>\n      <td>White - Non-Hispanic</td>\n      <td>Christian - Roman Catholic</td>\n      <td>No</td>\n      <td>Won</td>\n      <td>37.3</td>\n      <td>...</td>\n      <td>1.7</td>\n      <td>0.3</td>\n      <td>0.9</td>\n      <td>37.2</td>\n      <td>$70,304</td>\n      <td>57.3</td>\n      <td>-20.1</td>\n      <td>-23.6</td>\n      <td>-37.4</td>\n      <td>-39.1</td>\n    </tr>\n    <tr>\n      <th>433</th>\n      <td>WI-6</td>\n      <td>Republican</td>\n      <td>2014</td>\n      <td>1955.0</td>\n      <td>Man</td>\n      <td>White - Non-Hispanic</td>\n      <td>Christian - Lutheran</td>\n      <td>No</td>\n      <td>Won</td>\n      <td>38.8</td>\n      <td>...</td>\n      <td>1.6</td>\n      <td>0.4</td>\n      <td>0.8</td>\n      <td>25.8</td>\n      <td>$59,455</td>\n      <td>68.4</td>\n      <td>-16.9</td>\n      <td>-7.3</td>\n      <td>-19.9</td>\n      <td>-15.9</td>\n    </tr>\n    <tr>\n      <th>434</th>\n      <td>WI-7</td>\n      <td>Republican</td>\n      <td>2020 Special</td>\n      <td>1957.0</td>\n      <td>Man</td>\n      <td>White - Non-Hispanic</td>\n      <td>Christian</td>\n      <td>No</td>\n      <td>Won</td>\n      <td>37.3</td>\n      <td>...</td>\n      <td>1.1</td>\n      <td>1.7</td>\n      <td>1.1</td>\n      <td>23.1</td>\n      <td>$55,016</td>\n      <td>72.2</td>\n      <td>-20.4</td>\n      <td>-3.1</td>\n      <td>-23.4</td>\n      <td>-19.9</td>\n    </tr>\n    <tr>\n      <th>435</th>\n      <td>WI-8</td>\n      <td>Republican</td>\n      <td>2016</td>\n      <td>1984.0</td>\n      <td>Man</td>\n      <td>White - Non-Hispanic</td>\n      <td>Christian - Roman Catholic</td>\n      <td>No</td>\n      <td>Won</td>\n      <td>38.6</td>\n      <td>...</td>\n      <td>1.5</td>\n      <td>2.1</td>\n      <td>1.1</td>\n      <td>26.0</td>\n      <td>$60,166</td>\n      <td>67.3</td>\n      <td>-17.6</td>\n      <td>-3.7</td>\n      <td>-25.3</td>\n      <td>-30.1</td>\n    </tr>\n    <tr>\n      <th>436</th>\n      <td>WY-AL</td>\n      <td>Republican</td>\n      <td>2016</td>\n      <td>1966.0</td>\n      <td>Woman</td>\n      <td>White - Non-Hispanic</td>\n      <td>Christian - Methodist</td>\n      <td>No</td>\n      <td>Won</td>\n      <td>22.5</td>\n      <td>...</td>\n      <td>0.6</td>\n      <td>2.0</td>\n      <td>1.6</td>\n      <td>26.9</td>\n      <td>$62,268</td>\n      <td>63.1</td>\n      <td>-47.6</td>\n      <td>-41.2</td>\n      <td>-32.0</td>\n      <td>-45.6</td>\n    </tr>\n  </tbody>\n</table>\n<p>435 rows × 32 columns</p>\n</div>"
     },
     "metadata": {},
     "execution_count": 281
    }
   ],
   "source": [
    "dfad"
   ]
  },
  {
   "cell_type": "code",
   "execution_count": 282,
   "metadata": {},
   "outputs": [],
   "source": [
    "dfad.to_pickle('demo2018')"
   ]
  },
  {
   "cell_type": "code",
   "execution_count": 82,
   "metadata": {},
   "outputs": [],
   "source": []
  },
  {
   "cell_type": "code",
   "execution_count": 84,
   "metadata": {},
   "outputs": [
    {
     "output_type": "execute_result",
     "data": {
      "text/plain": [
       "     Code Gender               Race/ Ethnicity  col_perc  pres_marg_2012  \\\n",
       "2   AL-01    Man          White - Non-Hispanic  0.242993           -24.4   \n",
       "3   AL-02  Woman          White - Non-Hispanic  0.224741           -26.5   \n",
       "4   AL-03    Man          White - Non-Hispanic  0.216819           -25.5   \n",
       "5   AL-04    Man          White - Non-Hispanic  0.171913           -50.8   \n",
       "6   AL-05    Man          White - Non-Hispanic  0.318425           -29.0   \n",
       "7   AL-06    Man          White - Non-Hispanic  0.360973           -49.6   \n",
       "8   AL-07  Woman      Black - African-American  0.199991            45.3   \n",
       "9   AK-AL    Man          White - Non-Hispanic  0.292311           -14.1   \n",
       "10  AZ-01    Man          White - Non-Hispanic  0.245738            -2.5   \n",
       "11  AZ-02  Woman          White - Non-Hispanic  0.340364            -1.5   \n",
       "12  AZ-03    Man            Hispanic - Mexican  0.161532            24.5   \n",
       "13  AZ-04    Man          White - Non-Hispanic  0.192436           -36.2   \n",
       "14  AZ-05    Man          White - Non-Hispanic  0.359205           -29.2   \n",
       "15  AZ-06    Man          White - Non-Hispanic  0.440490           -20.7   \n",
       "16  AZ-07    Man  Hispanic - Mexican/Colombian  0.143422            45.2   \n",
       "17  AZ-08  Woman          White - Non-Hispanic  0.294000           -24.8   \n",
       "18  AZ-09    Man          White - Non-Hispanic  0.385264             4.5   \n",
       "19  AR-01    Man          White - Non-Hispanic  0.164187           -24.7   \n",
       "20  AR-02    Man          White - Non-Hispanic  0.296098           -11.8   \n",
       "21  AR-03    Man          White - Non-Hispanic  0.272547           -33.9   \n",
       "22  AR-04    Man          White - Non-Hispanic  0.165848           -25.9   \n",
       "23  CA-01    Man          White - Non-Hispanic  0.243845           -16.3   \n",
       "24  CA-02    Man          White - Non-Hispanic  0.415441            42.0   \n",
       "25  CA-03    Man          White - Non-Hispanic  0.253517            11.2   \n",
       "26  CA-04    Man          White - Non-Hispanic  0.333001           -18.4   \n",
       "27  CA-05    Man          White - Non-Hispanic  0.317324            42.2   \n",
       "28  CA-06  Woman              Asian - Japanese  0.284959            40.8   \n",
       "29  CA-07    Man                Asian - Indian  0.334232             4.0   \n",
       "30  CA-08    Man          White - Non-Hispanic  0.168377           -13.9   \n",
       "31  CA-09    Man          White - Non-Hispanic  0.201806            17.7   \n",
       "32  CA-10    Man          White - Non-Hispanic  0.175895             3.6   \n",
       "33  CA-11    Man          White - Non-Hispanic  0.441079            37.6   \n",
       "34  CA-12  Woman          White - Non-Hispanic  0.588627            71.6   \n",
       "35  CA-13  Woman      Black - African-American  0.482248            78.5   \n",
       "36  CA-14  Woman          White - Non-Hispanic  0.474300            50.6   \n",
       "37  CA-15    Man          White - Non-Hispanic  0.445199            38.2   \n",
       "38  CA-16    Man   White - Portuguese-American  0.125760            19.2   \n",
       "39  CA-17    Man                Asian - Indian  0.569691            46.4   \n",
       "40  CA-18  Woman          White - Non-Hispanic  0.627456            39.3   \n",
       "41  CA-19  Woman          White - Non-Hispanic  0.358999            44.7   \n",
       "\n",
       "       no  \n",
       "2    AL-1  \n",
       "3    AL-2  \n",
       "4    AL-3  \n",
       "5    AL-4  \n",
       "6    AL-5  \n",
       "7    AL-6  \n",
       "8    AL-7  \n",
       "9   AK-AL  \n",
       "10   AZ-1  \n",
       "11   AZ-2  \n",
       "12   AZ-3  \n",
       "13   AZ-4  \n",
       "14   AZ-5  \n",
       "15   AZ-6  \n",
       "16   AZ-7  \n",
       "17   AZ-8  \n",
       "18   AZ-9  \n",
       "19   AR-1  \n",
       "20   AR-2  \n",
       "21   AR-3  \n",
       "22   AR-4  \n",
       "23   CA-1  \n",
       "24   CA-2  \n",
       "25   CA-3  \n",
       "26   CA-4  \n",
       "27   CA-5  \n",
       "28   CA-6  \n",
       "29   CA-7  \n",
       "30   CA-8  \n",
       "31   CA-9  \n",
       "32  CA-10  \n",
       "33  CA-11  \n",
       "34  CA-12  \n",
       "35  CA-13  \n",
       "36  CA-14  \n",
       "37  CA-15  \n",
       "38  CA-16  \n",
       "39  CA-17  \n",
       "40  CA-18  \n",
       "41  CA-19  "
      ],
      "text/html": "<div>\n<style scoped>\n    .dataframe tbody tr th:only-of-type {\n        vertical-align: middle;\n    }\n\n    .dataframe tbody tr th {\n        vertical-align: top;\n    }\n\n    .dataframe thead th {\n        text-align: right;\n    }\n</style>\n<table border=\"1\" class=\"dataframe\">\n  <thead>\n    <tr style=\"text-align: right;\">\n      <th></th>\n      <th>Code</th>\n      <th>Gender</th>\n      <th>Race/ Ethnicity</th>\n      <th>col_perc</th>\n      <th>pres_marg_2012</th>\n      <th>no</th>\n    </tr>\n  </thead>\n  <tbody>\n    <tr>\n      <th>2</th>\n      <td>AL-01</td>\n      <td>Man</td>\n      <td>White - Non-Hispanic</td>\n      <td>0.242993</td>\n      <td>-24.4</td>\n      <td>AL-1</td>\n    </tr>\n    <tr>\n      <th>3</th>\n      <td>AL-02</td>\n      <td>Woman</td>\n      <td>White - Non-Hispanic</td>\n      <td>0.224741</td>\n      <td>-26.5</td>\n      <td>AL-2</td>\n    </tr>\n    <tr>\n      <th>4</th>\n      <td>AL-03</td>\n      <td>Man</td>\n      <td>White - Non-Hispanic</td>\n      <td>0.216819</td>\n      <td>-25.5</td>\n      <td>AL-3</td>\n    </tr>\n    <tr>\n      <th>5</th>\n      <td>AL-04</td>\n      <td>Man</td>\n      <td>White - Non-Hispanic</td>\n      <td>0.171913</td>\n      <td>-50.8</td>\n      <td>AL-4</td>\n    </tr>\n    <tr>\n      <th>6</th>\n      <td>AL-05</td>\n      <td>Man</td>\n      <td>White - Non-Hispanic</td>\n      <td>0.318425</td>\n      <td>-29.0</td>\n      <td>AL-5</td>\n    </tr>\n    <tr>\n      <th>7</th>\n      <td>AL-06</td>\n      <td>Man</td>\n      <td>White - Non-Hispanic</td>\n      <td>0.360973</td>\n      <td>-49.6</td>\n      <td>AL-6</td>\n    </tr>\n    <tr>\n      <th>8</th>\n      <td>AL-07</td>\n      <td>Woman</td>\n      <td>Black - African-American</td>\n      <td>0.199991</td>\n      <td>45.3</td>\n      <td>AL-7</td>\n    </tr>\n    <tr>\n      <th>9</th>\n      <td>AK-AL</td>\n      <td>Man</td>\n      <td>White - Non-Hispanic</td>\n      <td>0.292311</td>\n      <td>-14.1</td>\n      <td>AK-AL</td>\n    </tr>\n    <tr>\n      <th>10</th>\n      <td>AZ-01</td>\n      <td>Man</td>\n      <td>White - Non-Hispanic</td>\n      <td>0.245738</td>\n      <td>-2.5</td>\n      <td>AZ-1</td>\n    </tr>\n    <tr>\n      <th>11</th>\n      <td>AZ-02</td>\n      <td>Woman</td>\n      <td>White - Non-Hispanic</td>\n      <td>0.340364</td>\n      <td>-1.5</td>\n      <td>AZ-2</td>\n    </tr>\n    <tr>\n      <th>12</th>\n      <td>AZ-03</td>\n      <td>Man</td>\n      <td>Hispanic - Mexican</td>\n      <td>0.161532</td>\n      <td>24.5</td>\n      <td>AZ-3</td>\n    </tr>\n    <tr>\n      <th>13</th>\n      <td>AZ-04</td>\n      <td>Man</td>\n      <td>White - Non-Hispanic</td>\n      <td>0.192436</td>\n      <td>-36.2</td>\n      <td>AZ-4</td>\n    </tr>\n    <tr>\n      <th>14</th>\n      <td>AZ-05</td>\n      <td>Man</td>\n      <td>White - Non-Hispanic</td>\n      <td>0.359205</td>\n      <td>-29.2</td>\n      <td>AZ-5</td>\n    </tr>\n    <tr>\n      <th>15</th>\n      <td>AZ-06</td>\n      <td>Man</td>\n      <td>White - Non-Hispanic</td>\n      <td>0.440490</td>\n      <td>-20.7</td>\n      <td>AZ-6</td>\n    </tr>\n    <tr>\n      <th>16</th>\n      <td>AZ-07</td>\n      <td>Man</td>\n      <td>Hispanic - Mexican/Colombian</td>\n      <td>0.143422</td>\n      <td>45.2</td>\n      <td>AZ-7</td>\n    </tr>\n    <tr>\n      <th>17</th>\n      <td>AZ-08</td>\n      <td>Woman</td>\n      <td>White - Non-Hispanic</td>\n      <td>0.294000</td>\n      <td>-24.8</td>\n      <td>AZ-8</td>\n    </tr>\n    <tr>\n      <th>18</th>\n      <td>AZ-09</td>\n      <td>Man</td>\n      <td>White - Non-Hispanic</td>\n      <td>0.385264</td>\n      <td>4.5</td>\n      <td>AZ-9</td>\n    </tr>\n    <tr>\n      <th>19</th>\n      <td>AR-01</td>\n      <td>Man</td>\n      <td>White - Non-Hispanic</td>\n      <td>0.164187</td>\n      <td>-24.7</td>\n      <td>AR-1</td>\n    </tr>\n    <tr>\n      <th>20</th>\n      <td>AR-02</td>\n      <td>Man</td>\n      <td>White - Non-Hispanic</td>\n      <td>0.296098</td>\n      <td>-11.8</td>\n      <td>AR-2</td>\n    </tr>\n    <tr>\n      <th>21</th>\n      <td>AR-03</td>\n      <td>Man</td>\n      <td>White - Non-Hispanic</td>\n      <td>0.272547</td>\n      <td>-33.9</td>\n      <td>AR-3</td>\n    </tr>\n    <tr>\n      <th>22</th>\n      <td>AR-04</td>\n      <td>Man</td>\n      <td>White - Non-Hispanic</td>\n      <td>0.165848</td>\n      <td>-25.9</td>\n      <td>AR-4</td>\n    </tr>\n    <tr>\n      <th>23</th>\n      <td>CA-01</td>\n      <td>Man</td>\n      <td>White - Non-Hispanic</td>\n      <td>0.243845</td>\n      <td>-16.3</td>\n      <td>CA-1</td>\n    </tr>\n    <tr>\n      <th>24</th>\n      <td>CA-02</td>\n      <td>Man</td>\n      <td>White - Non-Hispanic</td>\n      <td>0.415441</td>\n      <td>42.0</td>\n      <td>CA-2</td>\n    </tr>\n    <tr>\n      <th>25</th>\n      <td>CA-03</td>\n      <td>Man</td>\n      <td>White - Non-Hispanic</td>\n      <td>0.253517</td>\n      <td>11.2</td>\n      <td>CA-3</td>\n    </tr>\n    <tr>\n      <th>26</th>\n      <td>CA-04</td>\n      <td>Man</td>\n      <td>White - Non-Hispanic</td>\n      <td>0.333001</td>\n      <td>-18.4</td>\n      <td>CA-4</td>\n    </tr>\n    <tr>\n      <th>27</th>\n      <td>CA-05</td>\n      <td>Man</td>\n      <td>White - Non-Hispanic</td>\n      <td>0.317324</td>\n      <td>42.2</td>\n      <td>CA-5</td>\n    </tr>\n    <tr>\n      <th>28</th>\n      <td>CA-06</td>\n      <td>Woman</td>\n      <td>Asian - Japanese</td>\n      <td>0.284959</td>\n      <td>40.8</td>\n      <td>CA-6</td>\n    </tr>\n    <tr>\n      <th>29</th>\n      <td>CA-07</td>\n      <td>Man</td>\n      <td>Asian - Indian</td>\n      <td>0.334232</td>\n      <td>4.0</td>\n      <td>CA-7</td>\n    </tr>\n    <tr>\n      <th>30</th>\n      <td>CA-08</td>\n      <td>Man</td>\n      <td>White - Non-Hispanic</td>\n      <td>0.168377</td>\n      <td>-13.9</td>\n      <td>CA-8</td>\n    </tr>\n    <tr>\n      <th>31</th>\n      <td>CA-09</td>\n      <td>Man</td>\n      <td>White - Non-Hispanic</td>\n      <td>0.201806</td>\n      <td>17.7</td>\n      <td>CA-9</td>\n    </tr>\n    <tr>\n      <th>32</th>\n      <td>CA-10</td>\n      <td>Man</td>\n      <td>White - Non-Hispanic</td>\n      <td>0.175895</td>\n      <td>3.6</td>\n      <td>CA-10</td>\n    </tr>\n    <tr>\n      <th>33</th>\n      <td>CA-11</td>\n      <td>Man</td>\n      <td>White - Non-Hispanic</td>\n      <td>0.441079</td>\n      <td>37.6</td>\n      <td>CA-11</td>\n    </tr>\n    <tr>\n      <th>34</th>\n      <td>CA-12</td>\n      <td>Woman</td>\n      <td>White - Non-Hispanic</td>\n      <td>0.588627</td>\n      <td>71.6</td>\n      <td>CA-12</td>\n    </tr>\n    <tr>\n      <th>35</th>\n      <td>CA-13</td>\n      <td>Woman</td>\n      <td>Black - African-American</td>\n      <td>0.482248</td>\n      <td>78.5</td>\n      <td>CA-13</td>\n    </tr>\n    <tr>\n      <th>36</th>\n      <td>CA-14</td>\n      <td>Woman</td>\n      <td>White - Non-Hispanic</td>\n      <td>0.474300</td>\n      <td>50.6</td>\n      <td>CA-14</td>\n    </tr>\n    <tr>\n      <th>37</th>\n      <td>CA-15</td>\n      <td>Man</td>\n      <td>White - Non-Hispanic</td>\n      <td>0.445199</td>\n      <td>38.2</td>\n      <td>CA-15</td>\n    </tr>\n    <tr>\n      <th>38</th>\n      <td>CA-16</td>\n      <td>Man</td>\n      <td>White - Portuguese-American</td>\n      <td>0.125760</td>\n      <td>19.2</td>\n      <td>CA-16</td>\n    </tr>\n    <tr>\n      <th>39</th>\n      <td>CA-17</td>\n      <td>Man</td>\n      <td>Asian - Indian</td>\n      <td>0.569691</td>\n      <td>46.4</td>\n      <td>CA-17</td>\n    </tr>\n    <tr>\n      <th>40</th>\n      <td>CA-18</td>\n      <td>Woman</td>\n      <td>White - Non-Hispanic</td>\n      <td>0.627456</td>\n      <td>39.3</td>\n      <td>CA-18</td>\n    </tr>\n    <tr>\n      <th>41</th>\n      <td>CA-19</td>\n      <td>Woman</td>\n      <td>White - Non-Hispanic</td>\n      <td>0.358999</td>\n      <td>44.7</td>\n      <td>CA-19</td>\n    </tr>\n  </tbody>\n</table>\n</div>"
     },
     "metadata": {},
     "execution_count": 84
    }
   ],
   "source": []
  },
  {
   "cell_type": "code",
   "execution_count": null,
   "metadata": {},
   "outputs": [],
   "source": []
  }
 ]
}